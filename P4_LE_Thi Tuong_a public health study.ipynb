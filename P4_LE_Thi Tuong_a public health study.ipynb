{
 "cells": [
  {
   "cell_type": "markdown",
   "metadata": {},
   "source": [
    "# Projet 4 : Réalisez une étude de santé publique avec Python\n",
    "<div>\n",
    "<img src=\"FAO.png\" style = \"width: 600px; height: 200px\" title = \"FAO\"/>\n",
    "</div>"
   ]
  },
  {
   "cell_type": "markdown",
   "metadata": {},
   "source": [
    "### <center>Réalisée par: Thi Tuong Le</center>"
   ]
  },
  {
   "cell_type": "markdown",
   "metadata": {},
   "source": [
    "#### <center>Data Analyst</center>"
   ]
  },
  {
   "cell_type": "markdown",
   "metadata": {},
   "source": [
    "#### <center>Validé le 17 janvier 2021</center>"
   ]
  },
  {
   "cell_type": "markdown",
   "metadata": {},
   "source": [
    "**Contexte**\n",
    "_J'ai avez récemment rejoint une équipe de chercheurs de la Food and Agriculture Organization of the United Nations (FAO), en tant que data analyst.Son rôle ? C’est l’un des organes qui composent l’ONU et dont l’objectif est « d’aider à construire un monde libéré de la faim ». Le responsable de l’équipe, Marc, un chercheur en économie de la santé, est particulièrement enthousiaste à l’idée de mon arrivée au sein de son équipe. En effet, ce recrutement tombe à pic car Julien, l'ancien data analyst, a récemment été muté dans une autre équipe, et la mienne vient de se voir confier la mission de réaliser une étude de grande ampleur sur le thème de la sous-nutrition dans le monde._\n",
    "_(I recently joined a team of researchers at the Food and Agriculture Organization of the United Nations (FAO) as a data analyst. It is one of the bodies that make up the UN and whose objective is \"to help build a world free of hunger\". The team leader, Marc, a researcher in health economics, is particularly enthusiastic about my arrival in his team. Indeed, this recruitment comes at the right time because Julien, the former data analyst, has recently been transferred to another team, and my team has just been given the mission to carry out a large-scale study on the theme of undernourishment in the world)._"
   ]
  },
  {
   "cell_type": "markdown",
   "metadata": {},
   "source": [
    "**Compétences (Skills)**\n",
    " * **_Utiliser des librairies spécialisées pour les traitements data (Use specialized libraries for data processing)_**\n",
    " * **_Créer un environnement de développement (Create a development environment)_**\n",
    " * **_Manipuler des DataFrames (Manipulate DataFrames)_**"
   ]
  },
  {
   "cell_type": "markdown",
   "metadata": {},
   "source": [
    "## Sommaire\n",
    "\n",
    "1. [Libraries](#1.-Libraries)\n",
    "2. [Import all csv datasets](#2.-Import-all-csv-datasets)                                                           \n",
    "3. [Insight the datasets and datasets description](#3.-Insight-the-datasets-and-datasets-description)                  \n",
    "    3.1. [Population dataset](#3.1.-Population-dataset)                                                                  \n",
    "    3.2. [Sous-nutrition dataset](#3.2.-Sous-nutrition-dataset)\n",
    "4. [Questions de Marc](#4.-Questions-de-Marc)                                                                         \n",
    "    4.1. [La proportion de personnes en état de sous-nutrition pour l'année 2017](#4.1.-La-proportion-de-personnes-en-état-de-sous-nutrition-pour-l'année-2017)                                                                        \n",
    "    4.2. [Le nombre théorique de personnes qui pourraient être nourris](#4.2.-Le-nombre-théorique-de-personnes-qui-pourraient-être-nourris)                                                                                               \n",
    "    4.3. [Food availability (dispo-alimentaire) dataset](#4.3.-Food-availability-(dispo-alimentaire)-dataset)         \n",
    "    4.4. [Le nombre théorique de personnes qui pourraient être nourris avec des produits végétaux](#4.4.-Le-nombre-théorique-de-personnes-qui-pourraient-être-nourris-avec-des-produits-végétaux)                                        \n",
    "    4.5. [L'utilisation de la disponibilité intérieure: alimentation animale](#4.5.-L'utilisation-de-la-disponibilité-intérieure:-alimentation-animale)                                                                          \n",
    "    4.6. [L'utilisation de la disponibilité intérieure: alimentation perdue](#4.6.-L'utilisation-de-la-disponibilité-intérieure:-alimentation-perdue)                                                                         \n",
    "    4.7. [L'utilisation de la disponibilité intérieure: alimentation humaine](#4.7.-L'utilisation-de-la-disponibilité-intérieure:-alimentation-humaine)                                                                        \n",
    "5. [Question de Julien](#5.-Question-de-Julien)                                                                        \n",
    "    5.1. [The cereal availability in 2017](#5.1.-The-cereal-availability-in-2017)                                     \n",
    "    5.2. [The cereal availability in 2013](#5.2.-The-cereal-availability-in-2013)                                      \n",
    "    5.3. [Question Julien: Manioc (Thailand)](#5.3.-Question-Julien:-Manioc-(Thailand))                                \n",
    "6. [Questions de Mélanie](#6.-Questions-de-Mélanie)                                                                     \n",
    "    6.1. [Les pays pour lesquels la proportion de personnes sous-alimentées est la plus forte en 2017](#6.1.-Les-pays-pour-lesquels-la-proportion-de-personnes-sous-alimentées-est-la-plus-forte-en-2017)                               \n",
    "    6.2. [Visualization the data of these 5 countries](#6.2.-Visualization-the-data-of-these-5-countries)             \n",
    "    6.3. [Les pays qui ont le plus bénéficié d’aide depuis 2013](#6.3.-Les-pays-qui-ont-le-plus-bénéficié-d’aide-depuis-2013           )                                                                                                           \n",
    "    6.4. [Visualization of these top 5 countries](#6.4.-Visualization-of-these-top-5-countries)                        \n",
    "    6.5. [Les pays ayant le plus de disponibilité/habitant](#6.5.-Les-pays-ayant-le-plus-de-disponibilité-/-habitant)                                                                                                                               \n",
    "    6.6. [Les pays ayant le moins de disponibilité/habitant](#6.6.-Les-pays-ayant-le-moins-de-disponibilit-/-habitant)                                                                                                             \n",
    "    6.7. [Visualization the top 5 countries with the least food availability / inhabitant](#6.7.-Visualization-the-top-5-countries-with-the-least-food-availability-/-inhabitant)                                                       \n",
    "7. [Supporting information](#7.-Supporting-information)                                                                \n",
    "8. [Conclusion](#8.-Conclusion)"
   ]
  },
  {
   "cell_type": "markdown",
   "metadata": {
    "heading_collapsed": true
   },
   "source": [
    "## 1. Libraries"
   ]
  },
  {
   "cell_type": "code",
   "execution_count": 1,
   "metadata": {
    "hidden": true
   },
   "outputs": [],
   "source": [
    "import numpy as np\n",
    "import pandas as pd\n",
    "import seaborn as sns\n",
    "import matplotlib.pyplot as plt"
   ]
  },
  {
   "cell_type": "markdown",
   "metadata": {
    "heading_collapsed": true
   },
   "source": [
    "## 2. Import all csv datasets"
   ]
  },
  {
   "cell_type": "code",
   "execution_count": 2,
   "metadata": {
    "hidden": true
   },
   "outputs": [
    {
     "data": {
      "text/plain": [
       "'/Users/lethituong/Desktop/Data Analyst/P4/17-01-Soutenance'"
      ]
     },
     "execution_count": 2,
     "metadata": {},
     "output_type": "execute_result"
    }
   ],
   "source": [
    "import os\n",
    "os.getcwd()"
   ]
  },
  {
   "cell_type": "code",
   "execution_count": 3,
   "metadata": {
    "hidden": true
   },
   "outputs": [
    {
     "name": "stdout",
     "output_type": "stream",
     "text": [
      "Clear\n"
     ]
    }
   ],
   "source": [
    "# Import all the datasets\n",
    "popu = pd.read_csv(\"population.csv\", index_col = 0)\n",
    "sousnutri = pd.read_csv(\"sous_nutrition.csv\", index_col = 0)\n",
    "dispoali = pd.read_csv(\"dispo_alimentaire.csv\", index_col = 0)\n",
    "aideali = pd.read_csv(\"aide_alimentaire.csv\", index_col = 0)\n",
    "\n",
    "# Note: Make sure all datasets imported sucessfully\n",
    "print (\"Clear\")"
   ]
  },
  {
   "cell_type": "markdown",
   "metadata": {
    "heading_collapsed": true
   },
   "source": [
    "## 3. Insight the datasets and datasets description\n",
    "### 3.1. Population dataset"
   ]
  },
  {
   "cell_type": "code",
   "execution_count": 4,
   "metadata": {
    "hidden": true
   },
   "outputs": [
    {
     "data": {
      "text/html": [
       "<div>\n",
       "<style scoped>\n",
       "    .dataframe tbody tr th:only-of-type {\n",
       "        vertical-align: middle;\n",
       "    }\n",
       "\n",
       "    .dataframe tbody tr th {\n",
       "        vertical-align: top;\n",
       "    }\n",
       "\n",
       "    .dataframe thead th {\n",
       "        text-align: right;\n",
       "    }\n",
       "</style>\n",
       "<table border=\"1\" class=\"dataframe\">\n",
       "  <thead>\n",
       "    <tr style=\"text-align: right;\">\n",
       "      <th></th>\n",
       "      <th>Année</th>\n",
       "      <th>Valeur</th>\n",
       "    </tr>\n",
       "    <tr>\n",
       "      <th>Zone</th>\n",
       "      <th></th>\n",
       "      <th></th>\n",
       "    </tr>\n",
       "  </thead>\n",
       "  <tbody>\n",
       "    <tr>\n",
       "      <td>Afghanistan</td>\n",
       "      <td>2013</td>\n",
       "      <td>32269.589</td>\n",
       "    </tr>\n",
       "    <tr>\n",
       "      <td>Afghanistan</td>\n",
       "      <td>2014</td>\n",
       "      <td>33370.794</td>\n",
       "    </tr>\n",
       "    <tr>\n",
       "      <td>Afghanistan</td>\n",
       "      <td>2015</td>\n",
       "      <td>34413.603</td>\n",
       "    </tr>\n",
       "    <tr>\n",
       "      <td>Afghanistan</td>\n",
       "      <td>2016</td>\n",
       "      <td>35383.032</td>\n",
       "    </tr>\n",
       "    <tr>\n",
       "      <td>Afghanistan</td>\n",
       "      <td>2017</td>\n",
       "      <td>36296.113</td>\n",
       "    </tr>\n",
       "  </tbody>\n",
       "</table>\n",
       "</div>"
      ],
      "text/plain": [
       "             Année     Valeur\n",
       "Zone                         \n",
       "Afghanistan   2013  32269.589\n",
       "Afghanistan   2014  33370.794\n",
       "Afghanistan   2015  34413.603\n",
       "Afghanistan   2016  35383.032\n",
       "Afghanistan   2017  36296.113"
      ]
     },
     "execution_count": 4,
     "metadata": {},
     "output_type": "execute_result"
    }
   ],
   "source": [
    "popu.head ()"
   ]
  },
  {
   "cell_type": "code",
   "execution_count": 5,
   "metadata": {
    "hidden": true
   },
   "outputs": [
    {
     "data": {
      "text/plain": [
       "(1416, 2)"
      ]
     },
     "execution_count": 5,
     "metadata": {},
     "output_type": "execute_result"
    }
   ],
   "source": [
    "# number of columns and rows\n",
    "popu.shape"
   ]
  },
  {
   "cell_type": "markdown",
   "metadata": {
    "hidden": true
   },
   "source": [
    "**This data contains the year, the population of each country expressed in thousands of inhabitants.**"
   ]
  },
  {
   "cell_type": "code",
   "execution_count": 6,
   "metadata": {
    "hidden": true
   },
   "outputs": [
    {
     "data": {
      "text/html": [
       "<div>\n",
       "<style scoped>\n",
       "    .dataframe tbody tr th:only-of-type {\n",
       "        vertical-align: middle;\n",
       "    }\n",
       "\n",
       "    .dataframe tbody tr th {\n",
       "        vertical-align: top;\n",
       "    }\n",
       "\n",
       "    .dataframe thead th {\n",
       "        text-align: right;\n",
       "    }\n",
       "</style>\n",
       "<table border=\"1\" class=\"dataframe\">\n",
       "  <thead>\n",
       "    <tr style=\"text-align: right;\">\n",
       "      <th></th>\n",
       "      <th>Année</th>\n",
       "      <th>Valeur</th>\n",
       "    </tr>\n",
       "  </thead>\n",
       "  <tbody>\n",
       "    <tr>\n",
       "      <td>count</td>\n",
       "      <td>1416.000000</td>\n",
       "      <td>1.416000e+03</td>\n",
       "    </tr>\n",
       "    <tr>\n",
       "      <td>mean</td>\n",
       "      <td>2015.500000</td>\n",
       "      <td>3.144793e+04</td>\n",
       "    </tr>\n",
       "    <tr>\n",
       "      <td>std</td>\n",
       "      <td>1.708428</td>\n",
       "      <td>1.300812e+05</td>\n",
       "    </tr>\n",
       "    <tr>\n",
       "      <td>min</td>\n",
       "      <td>2013.000000</td>\n",
       "      <td>7.930000e-01</td>\n",
       "    </tr>\n",
       "    <tr>\n",
       "      <td>25%</td>\n",
       "      <td>2014.000000</td>\n",
       "      <td>3.783410e+02</td>\n",
       "    </tr>\n",
       "    <tr>\n",
       "      <td>50%</td>\n",
       "      <td>2015.500000</td>\n",
       "      <td>5.126480e+03</td>\n",
       "    </tr>\n",
       "    <tr>\n",
       "      <td>75%</td>\n",
       "      <td>2017.000000</td>\n",
       "      <td>1.930666e+04</td>\n",
       "    </tr>\n",
       "    <tr>\n",
       "      <td>max</td>\n",
       "      <td>2018.000000</td>\n",
       "      <td>1.427648e+06</td>\n",
       "    </tr>\n",
       "  </tbody>\n",
       "</table>\n",
       "</div>"
      ],
      "text/plain": [
       "             Année        Valeur\n",
       "count  1416.000000  1.416000e+03\n",
       "mean   2015.500000  3.144793e+04\n",
       "std       1.708428  1.300812e+05\n",
       "min    2013.000000  7.930000e-01\n",
       "25%    2014.000000  3.783410e+02\n",
       "50%    2015.500000  5.126480e+03\n",
       "75%    2017.000000  1.930666e+04\n",
       "max    2018.000000  1.427648e+06"
      ]
     },
     "execution_count": 6,
     "metadata": {},
     "output_type": "execute_result"
    }
   ],
   "source": [
    "# Insight into dataset population\n",
    "popu.describe ()"
   ]
  },
  {
   "cell_type": "markdown",
   "metadata": {
    "hidden": true
   },
   "source": [
    "**Herein we can know the total years, values, mean, std, min, and max values of population dataset.**"
   ]
  },
  {
   "cell_type": "code",
   "execution_count": 7,
   "metadata": {
    "hidden": true
   },
   "outputs": [
    {
     "name": "stdout",
     "output_type": "stream",
     "text": [
      "False\n"
     ]
    }
   ],
   "source": [
    "# Is there any null value?\n",
    "print(popu.isnull().values.any())"
   ]
  },
  {
   "cell_type": "code",
   "execution_count": 8,
   "metadata": {
    "hidden": true
   },
   "outputs": [
    {
     "name": "stdout",
     "output_type": "stream",
     "text": [
      "False\n"
     ]
    }
   ],
   "source": [
    "# Is there any double values in population dataset?\n",
    "print (popu.duplicated().values.any())"
   ]
  },
  {
   "cell_type": "markdown",
   "metadata": {
    "hidden": true
   },
   "source": [
    "**There is not any double values in this dataset.**"
   ]
  },
  {
   "cell_type": "code",
   "execution_count": 9,
   "metadata": {
    "hidden": true
   },
   "outputs": [
    {
     "name": "stdout",
     "output_type": "stream",
     "text": [
      "<class 'pandas.core.frame.DataFrame'>\n",
      "Index: 1416 entries, Afghanistan to Zimbabwe\n",
      "Data columns (total 2 columns):\n",
      "Année     1416 non-null int64\n",
      "Valeur    1416 non-null float64\n",
      "dtypes: float64(1), int64(1)\n",
      "memory usage: 33.2+ KB\n"
     ]
    }
   ],
   "source": [
    "# Get all information regarding population dataset\n",
    "popu.info ()"
   ]
  },
  {
   "cell_type": "markdown",
   "metadata": {
    "heading_collapsed": true,
    "hidden": true
   },
   "source": [
    "### 3.2. Sous-nutrition dataset"
   ]
  },
  {
   "cell_type": "code",
   "execution_count": 10,
   "metadata": {
    "hidden": true
   },
   "outputs": [
    {
     "data": {
      "text/html": [
       "<div>\n",
       "<style scoped>\n",
       "    .dataframe tbody tr th:only-of-type {\n",
       "        vertical-align: middle;\n",
       "    }\n",
       "\n",
       "    .dataframe tbody tr th {\n",
       "        vertical-align: top;\n",
       "    }\n",
       "\n",
       "    .dataframe thead th {\n",
       "        text-align: right;\n",
       "    }\n",
       "</style>\n",
       "<table border=\"1\" class=\"dataframe\">\n",
       "  <thead>\n",
       "    <tr style=\"text-align: right;\">\n",
       "      <th></th>\n",
       "      <th>Année</th>\n",
       "      <th>Valeur</th>\n",
       "    </tr>\n",
       "    <tr>\n",
       "      <th>Zone</th>\n",
       "      <th></th>\n",
       "      <th></th>\n",
       "    </tr>\n",
       "  </thead>\n",
       "  <tbody>\n",
       "    <tr>\n",
       "      <td>Afghanistan</td>\n",
       "      <td>2012-2014</td>\n",
       "      <td>8.6</td>\n",
       "    </tr>\n",
       "    <tr>\n",
       "      <td>Afghanistan</td>\n",
       "      <td>2013-2015</td>\n",
       "      <td>8.8</td>\n",
       "    </tr>\n",
       "    <tr>\n",
       "      <td>Afghanistan</td>\n",
       "      <td>2014-2016</td>\n",
       "      <td>8.9</td>\n",
       "    </tr>\n",
       "    <tr>\n",
       "      <td>Afghanistan</td>\n",
       "      <td>2015-2017</td>\n",
       "      <td>9.7</td>\n",
       "    </tr>\n",
       "    <tr>\n",
       "      <td>Afghanistan</td>\n",
       "      <td>2016-2018</td>\n",
       "      <td>10.5</td>\n",
       "    </tr>\n",
       "  </tbody>\n",
       "</table>\n",
       "</div>"
      ],
      "text/plain": [
       "                 Année Valeur\n",
       "Zone                         \n",
       "Afghanistan  2012-2014    8.6\n",
       "Afghanistan  2013-2015    8.8\n",
       "Afghanistan  2014-2016    8.9\n",
       "Afghanistan  2015-2017    9.7\n",
       "Afghanistan  2016-2018   10.5"
      ]
     },
     "execution_count": 10,
     "metadata": {},
     "output_type": "execute_result"
    }
   ],
   "source": [
    "sousnutri.head ()"
   ]
  },
  {
   "cell_type": "code",
   "execution_count": 11,
   "metadata": {
    "hidden": true
   },
   "outputs": [
    {
     "data": {
      "text/plain": [
       "(1218, 2)"
      ]
     },
     "execution_count": 11,
     "metadata": {},
     "output_type": "execute_result"
    }
   ],
   "source": [
    "# number of columns and rows\n",
    "sousnutri.shape"
   ]
  },
  {
   "cell_type": "markdown",
   "metadata": {
    "hidden": true
   },
   "source": [
    "**This data contains the country, the interval of years, and the number of undernourished in millions.**"
   ]
  },
  {
   "cell_type": "code",
   "execution_count": 12,
   "metadata": {
    "hidden": true
   },
   "outputs": [
    {
     "data": {
      "text/html": [
       "<div>\n",
       "<style scoped>\n",
       "    .dataframe tbody tr th:only-of-type {\n",
       "        vertical-align: middle;\n",
       "    }\n",
       "\n",
       "    .dataframe tbody tr th {\n",
       "        vertical-align: top;\n",
       "    }\n",
       "\n",
       "    .dataframe thead th {\n",
       "        text-align: right;\n",
       "    }\n",
       "</style>\n",
       "<table border=\"1\" class=\"dataframe\">\n",
       "  <thead>\n",
       "    <tr style=\"text-align: right;\">\n",
       "      <th></th>\n",
       "      <th>Année</th>\n",
       "      <th>Valeur</th>\n",
       "    </tr>\n",
       "  </thead>\n",
       "  <tbody>\n",
       "    <tr>\n",
       "      <td>count</td>\n",
       "      <td>1218</td>\n",
       "      <td>624</td>\n",
       "    </tr>\n",
       "    <tr>\n",
       "      <td>unique</td>\n",
       "      <td>6</td>\n",
       "      <td>139</td>\n",
       "    </tr>\n",
       "    <tr>\n",
       "      <td>top</td>\n",
       "      <td>2012-2014</td>\n",
       "      <td>&lt;0.1</td>\n",
       "    </tr>\n",
       "    <tr>\n",
       "      <td>freq</td>\n",
       "      <td>203</td>\n",
       "      <td>120</td>\n",
       "    </tr>\n",
       "  </tbody>\n",
       "</table>\n",
       "</div>"
      ],
      "text/plain": [
       "            Année Valeur\n",
       "count        1218    624\n",
       "unique          6    139\n",
       "top     2012-2014   <0.1\n",
       "freq          203    120"
      ]
     },
     "execution_count": 12,
     "metadata": {},
     "output_type": "execute_result"
    }
   ],
   "source": [
    "sousnutri.describe (include = \"all\")"
   ]
  },
  {
   "cell_type": "code",
   "execution_count": 13,
   "metadata": {
    "hidden": true
   },
   "outputs": [
    {
     "name": "stdout",
     "output_type": "stream",
     "text": [
      "True\n"
     ]
    }
   ],
   "source": [
    "# Is there any null value?\n",
    "print(sousnutri.isnull().values.any())"
   ]
  },
  {
   "cell_type": "code",
   "execution_count": 14,
   "metadata": {
    "hidden": true
   },
   "outputs": [],
   "source": [
    "# Insight into dataset undernutrition\n",
    "sousnutri[\"Valeur\"].fillna(0,inplace=True)"
   ]
  },
  {
   "cell_type": "code",
   "execution_count": 15,
   "metadata": {
    "hidden": true
   },
   "outputs": [
    {
     "name": "stdout",
     "output_type": "stream",
     "text": [
      "False\n"
     ]
    }
   ],
   "source": [
    "print(sousnutri.isnull().values.any())"
   ]
  },
  {
   "cell_type": "code",
   "execution_count": 16,
   "metadata": {
    "hidden": true
   },
   "outputs": [
    {
     "data": {
      "text/html": [
       "<div>\n",
       "<style scoped>\n",
       "    .dataframe tbody tr th:only-of-type {\n",
       "        vertical-align: middle;\n",
       "    }\n",
       "\n",
       "    .dataframe tbody tr th {\n",
       "        vertical-align: top;\n",
       "    }\n",
       "\n",
       "    .dataframe thead th {\n",
       "        text-align: right;\n",
       "    }\n",
       "</style>\n",
       "<table border=\"1\" class=\"dataframe\">\n",
       "  <thead>\n",
       "    <tr style=\"text-align: right;\">\n",
       "      <th></th>\n",
       "      <th>Année</th>\n",
       "      <th>Valeur</th>\n",
       "    </tr>\n",
       "  </thead>\n",
       "  <tbody>\n",
       "    <tr>\n",
       "      <td>count</td>\n",
       "      <td>1218</td>\n",
       "      <td>1218</td>\n",
       "    </tr>\n",
       "    <tr>\n",
       "      <td>unique</td>\n",
       "      <td>6</td>\n",
       "      <td>140</td>\n",
       "    </tr>\n",
       "    <tr>\n",
       "      <td>top</td>\n",
       "      <td>2012-2014</td>\n",
       "      <td>0</td>\n",
       "    </tr>\n",
       "    <tr>\n",
       "      <td>freq</td>\n",
       "      <td>203</td>\n",
       "      <td>594</td>\n",
       "    </tr>\n",
       "  </tbody>\n",
       "</table>\n",
       "</div>"
      ],
      "text/plain": [
       "            Année  Valeur\n",
       "count        1218    1218\n",
       "unique          6     140\n",
       "top     2012-2014       0\n",
       "freq          203     594"
      ]
     },
     "execution_count": 16,
     "metadata": {},
     "output_type": "execute_result"
    }
   ],
   "source": [
    "# Insight the data after replace NaN values by 0\n",
    "sousnutri.describe (include = \"all\")"
   ]
  },
  {
   "cell_type": "code",
   "execution_count": 17,
   "metadata": {
    "hidden": true
   },
   "outputs": [
    {
     "name": "stdout",
     "output_type": "stream",
     "text": [
      "<class 'pandas.core.frame.DataFrame'>\n",
      "Index: 1218 entries, Afghanistan to Zimbabwe\n",
      "Data columns (total 2 columns):\n",
      "Année     1218 non-null object\n",
      "Valeur    1218 non-null object\n",
      "dtypes: object(2)\n",
      "memory usage: 28.5+ KB\n"
     ]
    }
   ],
   "source": [
    "# Get all information regarding undernutrition dataset\n",
    "sousnutri.info ()"
   ]
  },
  {
   "cell_type": "markdown",
   "metadata": {},
   "source": [
    "## 4.Questions de Marc"
   ]
  },
  {
   "cell_type": "markdown",
   "metadata": {
    "heading_collapsed": true
   },
   "source": [
    "### 4.1. La proportion de personnes en état de sous-nutrition pour l'année 2017"
   ]
  },
  {
   "cell_type": "code",
   "execution_count": 18,
   "metadata": {
    "hidden": true
   },
   "outputs": [
    {
     "name": "stdout",
     "output_type": "stream",
     "text": [
      "['2012-2014' '2013-2015' '2014-2016' '2015-2017' '2016-2018' '2017-2019']\n"
     ]
    }
   ],
   "source": [
    "# Unique values of \"Année\" in \"sous-nutrition\" data\n",
    "print (sousnutri[\"Année\"].unique())"
   ]
  },
  {
   "cell_type": "code",
   "execution_count": 19,
   "metadata": {
    "hidden": true
   },
   "outputs": [],
   "source": [
    "# Replace the year\n",
    "sousnutri[\"Année\"] = sousnutri[\"Année\"].replace([\"2012-2014\", \"2013-2015\", \"2014-2016\", \"2015-2017\", \"2016-2018\", \"2017-2019\"], [\"2013\", \"2014\", \"2015\", \"2016\", \"2017\", \"2018\"])"
   ]
  },
  {
   "cell_type": "code",
   "execution_count": 20,
   "metadata": {
    "hidden": true
   },
   "outputs": [],
   "source": [
    "# Change the type of column \n",
    "sousnutri[\"Année\"] = sousnutri[\"Année\"].astype(int)"
   ]
  },
  {
   "cell_type": "code",
   "execution_count": 21,
   "metadata": {
    "hidden": true
   },
   "outputs": [],
   "source": [
    "# Merge the \"Zone\" and \"Année\" of population data and undernourrished data -> create the new data frame: df1\n",
    "df1 = popu.merge(right=sousnutri, on=[\"Zone\", \"Année\"])"
   ]
  },
  {
   "cell_type": "code",
   "execution_count": 22,
   "metadata": {
    "hidden": true
   },
   "outputs": [],
   "source": [
    "# Change the name of the columns\n",
    "df1 = df1.rename(columns = {\"Valeur_x\": \"Valeur_population\", \"Valeur_y\": \"Valeur_sous_nutrition\"})"
   ]
  },
  {
   "cell_type": "code",
   "execution_count": 23,
   "metadata": {
    "hidden": true
   },
   "outputs": [],
   "source": [
    "# Change the type of object\n",
    "df1[\"Valeur_sous_nutrition\"] = pd.to_numeric(df1[\"Valeur_sous_nutrition\"],errors = \"coerce\")"
   ]
  },
  {
   "cell_type": "code",
   "execution_count": 24,
   "metadata": {
    "hidden": true
   },
   "outputs": [],
   "source": [
    "# Extract the data of the year 2017 -> create df2017\n",
    "df2017 = df1[df1.Année == 2017]"
   ]
  },
  {
   "cell_type": "code",
   "execution_count": 25,
   "metadata": {
    "hidden": true
   },
   "outputs": [
    {
     "name": "stdout",
     "output_type": "stream",
     "text": [
      "[2017]\n"
     ]
    }
   ],
   "source": [
    "# The unique value of df2017\n",
    "print(df2017[\"Année\"].unique())"
   ]
  },
  {
   "cell_type": "markdown",
   "metadata": {
    "hidden": true
   },
   "source": [
    "That means we are now working on the data in 2017 only."
   ]
  },
  {
   "cell_type": "code",
   "execution_count": 26,
   "metadata": {
    "hidden": true
   },
   "outputs": [
    {
     "name": "stderr",
     "output_type": "stream",
     "text": [
      "/Users/lethituong/opt/anaconda3/lib/python3.7/site-packages/ipykernel_launcher.py:2: SettingWithCopyWarning: \n",
      "A value is trying to be set on a copy of a slice from a DataFrame.\n",
      "Try using .loc[row_indexer,col_indexer] = value instead\n",
      "\n",
      "See the caveats in the documentation: http://pandas.pydata.org/pandas-docs/stable/user_guide/indexing.html#returning-a-view-versus-a-copy\n",
      "  \n"
     ]
    }
   ],
   "source": [
    "# Homoginization the value (express in million)\n",
    "df2017[\"Valeur_sous_nutrition\"] = df2017[\"Valeur_sous_nutrition\"] * 1000"
   ]
  },
  {
   "cell_type": "code",
   "execution_count": 27,
   "metadata": {
    "hidden": true
   },
   "outputs": [
    {
     "data": {
      "text/html": [
       "<div>\n",
       "<style scoped>\n",
       "    .dataframe tbody tr th:only-of-type {\n",
       "        vertical-align: middle;\n",
       "    }\n",
       "\n",
       "    .dataframe tbody tr th {\n",
       "        vertical-align: top;\n",
       "    }\n",
       "\n",
       "    .dataframe thead th {\n",
       "        text-align: right;\n",
       "    }\n",
       "</style>\n",
       "<table border=\"1\" class=\"dataframe\">\n",
       "  <thead>\n",
       "    <tr style=\"text-align: right;\">\n",
       "      <th></th>\n",
       "      <th>Année</th>\n",
       "      <th>Valeur_population</th>\n",
       "      <th>Valeur_sous_nutrition</th>\n",
       "    </tr>\n",
       "    <tr>\n",
       "      <th>Zone</th>\n",
       "      <th></th>\n",
       "      <th></th>\n",
       "      <th></th>\n",
       "    </tr>\n",
       "  </thead>\n",
       "  <tbody>\n",
       "    <tr>\n",
       "      <td>Afghanistan</td>\n",
       "      <td>2017</td>\n",
       "      <td>36296.113</td>\n",
       "      <td>10500.0</td>\n",
       "    </tr>\n",
       "    <tr>\n",
       "      <td>Afrique du Sud</td>\n",
       "      <td>2017</td>\n",
       "      <td>57009.756</td>\n",
       "      <td>3100.0</td>\n",
       "    </tr>\n",
       "    <tr>\n",
       "      <td>Albanie</td>\n",
       "      <td>2017</td>\n",
       "      <td>2884.169</td>\n",
       "      <td>100.0</td>\n",
       "    </tr>\n",
       "    <tr>\n",
       "      <td>Algérie</td>\n",
       "      <td>2017</td>\n",
       "      <td>41389.189</td>\n",
       "      <td>1300.0</td>\n",
       "    </tr>\n",
       "    <tr>\n",
       "      <td>Allemagne</td>\n",
       "      <td>2017</td>\n",
       "      <td>82658.409</td>\n",
       "      <td>0.0</td>\n",
       "    </tr>\n",
       "  </tbody>\n",
       "</table>\n",
       "</div>"
      ],
      "text/plain": [
       "                Année  Valeur_population  Valeur_sous_nutrition\n",
       "Zone                                                           \n",
       "Afghanistan      2017          36296.113                10500.0\n",
       "Afrique du Sud   2017          57009.756                 3100.0\n",
       "Albanie          2017           2884.169                  100.0\n",
       "Algérie          2017          41389.189                 1300.0\n",
       "Allemagne        2017          82658.409                    0.0"
      ]
     },
     "execution_count": 27,
     "metadata": {},
     "output_type": "execute_result"
    }
   ],
   "source": [
    "# Insight the df2017\n",
    "df2017.head()"
   ]
  },
  {
   "cell_type": "code",
   "execution_count": 28,
   "metadata": {
    "hidden": true
   },
   "outputs": [],
   "source": [
    "# Calculation the population in total in 2017\n",
    "total_population2017 = np.round(df2017[\"Valeur_population\"].sum(),3)\n",
    "population2017 = np.round(total_population2017/1000000,3)"
   ]
  },
  {
   "cell_type": "code",
   "execution_count": 29,
   "metadata": {
    "hidden": true
   },
   "outputs": [
    {
     "name": "stdout",
     "output_type": "stream",
     "text": [
      "The population in 2017 in total was: 7.544 billion people.\n"
     ]
    }
   ],
   "source": [
    "# The total population in 2017\n",
    "print(\"The population in 2017 in total was:\", population2017,\"billion people.\")"
   ]
  },
  {
   "cell_type": "code",
   "execution_count": 30,
   "metadata": {
    "hidden": true
   },
   "outputs": [],
   "source": [
    "# Calculation the undernourrished population in 2017\n",
    "total_sous_nutrition2017 = df2017[\"Valeur_sous_nutrition\"].sum()\n",
    "sous_nutrition2017 = np.round(total_sous_nutrition2017/1000,3)"
   ]
  },
  {
   "cell_type": "code",
   "execution_count": 31,
   "metadata": {
    "hidden": true
   },
   "outputs": [
    {
     "name": "stdout",
     "output_type": "stream",
     "text": [
      "The total undernourrished population in 2017 was 535.7 million inhabitants.\n"
     ]
    }
   ],
   "source": [
    "# The total of undernourrished population in 2017\n",
    "print(\"The total undernourrished population in 2017 was\", sous_nutrition2017,\"million inhabitants.\")"
   ]
  },
  {
   "cell_type": "code",
   "execution_count": 32,
   "metadata": {
    "hidden": true
   },
   "outputs": [
    {
     "name": "stdout",
     "output_type": "stream",
     "text": [
      "The proportion of undernourrished population in 2017 was 7.1 %.\n"
     ]
    }
   ],
   "source": [
    "# The proportion of undernourrished population in 2017\n",
    "proportion_sous_nutrition = np.round ((total_sous_nutrition2017/total_population2017)*100,2)\n",
    "print(\"The proportion of undernourrished population in 2017 was\", proportion_sous_nutrition, \"%.\")"
   ]
  },
  {
   "cell_type": "markdown",
   "metadata": {
    "hidden": true
   },
   "source": [
    "**In this part, we presented how to import the database and read insight the data of \"population\" and \"sous-nutrition\". The ratio of undernourrished population in the world in 2017 was 7.1%.**"
   ]
  },
  {
   "cell_type": "markdown",
   "metadata": {},
   "source": [
    "### 4.2. Le nombre théorique de personnes qui pourraient être nourris"
   ]
  },
  {
   "cell_type": "markdown",
   "metadata": {
    "heading_collapsed": true
   },
   "source": [
    "### 4.3. Food availability (dispo-alimentaire) dataset"
   ]
  },
  {
   "cell_type": "code",
   "execution_count": 33,
   "metadata": {
    "hidden": true
   },
   "outputs": [
    {
     "data": {
      "text/html": [
       "<div>\n",
       "<style scoped>\n",
       "    .dataframe tbody tr th:only-of-type {\n",
       "        vertical-align: middle;\n",
       "    }\n",
       "\n",
       "    .dataframe tbody tr th {\n",
       "        vertical-align: top;\n",
       "    }\n",
       "\n",
       "    .dataframe thead th {\n",
       "        text-align: right;\n",
       "    }\n",
       "</style>\n",
       "<table border=\"1\" class=\"dataframe\">\n",
       "  <thead>\n",
       "    <tr style=\"text-align: right;\">\n",
       "      <th></th>\n",
       "      <th>Produit</th>\n",
       "      <th>Origine</th>\n",
       "      <th>Aliments pour animaux</th>\n",
       "      <th>Autres Utilisations</th>\n",
       "      <th>Disponibilité alimentaire (Kcal/personne/jour)</th>\n",
       "      <th>Disponibilité alimentaire en quantité (kg/personne/an)</th>\n",
       "      <th>Disponibilité de matière grasse en quantité (g/personne/jour)</th>\n",
       "      <th>Disponibilité de protéines en quantité (g/personne/jour)</th>\n",
       "      <th>Disponibilité intérieure</th>\n",
       "      <th>Exportations - Quantité</th>\n",
       "      <th>Importations - Quantité</th>\n",
       "      <th>Nourriture</th>\n",
       "      <th>Pertes</th>\n",
       "      <th>Production</th>\n",
       "      <th>Semences</th>\n",
       "      <th>Traitement</th>\n",
       "      <th>Variation de stock</th>\n",
       "    </tr>\n",
       "    <tr>\n",
       "      <th>Zone</th>\n",
       "      <th></th>\n",
       "      <th></th>\n",
       "      <th></th>\n",
       "      <th></th>\n",
       "      <th></th>\n",
       "      <th></th>\n",
       "      <th></th>\n",
       "      <th></th>\n",
       "      <th></th>\n",
       "      <th></th>\n",
       "      <th></th>\n",
       "      <th></th>\n",
       "      <th></th>\n",
       "      <th></th>\n",
       "      <th></th>\n",
       "      <th></th>\n",
       "      <th></th>\n",
       "    </tr>\n",
       "  </thead>\n",
       "  <tbody>\n",
       "    <tr>\n",
       "      <td>Afghanistan</td>\n",
       "      <td>Abats Comestible</td>\n",
       "      <td>animale</td>\n",
       "      <td>NaN</td>\n",
       "      <td>NaN</td>\n",
       "      <td>5.0</td>\n",
       "      <td>1.72</td>\n",
       "      <td>0.20</td>\n",
       "      <td>0.77</td>\n",
       "      <td>53.0</td>\n",
       "      <td>NaN</td>\n",
       "      <td>NaN</td>\n",
       "      <td>53.0</td>\n",
       "      <td>NaN</td>\n",
       "      <td>53.0</td>\n",
       "      <td>NaN</td>\n",
       "      <td>NaN</td>\n",
       "      <td>NaN</td>\n",
       "    </tr>\n",
       "    <tr>\n",
       "      <td>Afghanistan</td>\n",
       "      <td>Agrumes, Autres</td>\n",
       "      <td>vegetale</td>\n",
       "      <td>NaN</td>\n",
       "      <td>NaN</td>\n",
       "      <td>1.0</td>\n",
       "      <td>1.29</td>\n",
       "      <td>0.01</td>\n",
       "      <td>0.02</td>\n",
       "      <td>41.0</td>\n",
       "      <td>2.0</td>\n",
       "      <td>40.0</td>\n",
       "      <td>39.0</td>\n",
       "      <td>2.0</td>\n",
       "      <td>3.0</td>\n",
       "      <td>NaN</td>\n",
       "      <td>NaN</td>\n",
       "      <td>NaN</td>\n",
       "    </tr>\n",
       "    <tr>\n",
       "      <td>Afghanistan</td>\n",
       "      <td>Aliments pour enfants</td>\n",
       "      <td>vegetale</td>\n",
       "      <td>NaN</td>\n",
       "      <td>NaN</td>\n",
       "      <td>1.0</td>\n",
       "      <td>0.06</td>\n",
       "      <td>0.01</td>\n",
       "      <td>0.03</td>\n",
       "      <td>2.0</td>\n",
       "      <td>NaN</td>\n",
       "      <td>2.0</td>\n",
       "      <td>2.0</td>\n",
       "      <td>NaN</td>\n",
       "      <td>NaN</td>\n",
       "      <td>NaN</td>\n",
       "      <td>NaN</td>\n",
       "      <td>NaN</td>\n",
       "    </tr>\n",
       "    <tr>\n",
       "      <td>Afghanistan</td>\n",
       "      <td>Ananas</td>\n",
       "      <td>vegetale</td>\n",
       "      <td>NaN</td>\n",
       "      <td>NaN</td>\n",
       "      <td>0.0</td>\n",
       "      <td>0.00</td>\n",
       "      <td>NaN</td>\n",
       "      <td>NaN</td>\n",
       "      <td>0.0</td>\n",
       "      <td>NaN</td>\n",
       "      <td>0.0</td>\n",
       "      <td>0.0</td>\n",
       "      <td>NaN</td>\n",
       "      <td>NaN</td>\n",
       "      <td>NaN</td>\n",
       "      <td>NaN</td>\n",
       "      <td>NaN</td>\n",
       "    </tr>\n",
       "    <tr>\n",
       "      <td>Afghanistan</td>\n",
       "      <td>Bananes</td>\n",
       "      <td>vegetale</td>\n",
       "      <td>NaN</td>\n",
       "      <td>NaN</td>\n",
       "      <td>4.0</td>\n",
       "      <td>2.70</td>\n",
       "      <td>0.02</td>\n",
       "      <td>0.05</td>\n",
       "      <td>82.0</td>\n",
       "      <td>NaN</td>\n",
       "      <td>82.0</td>\n",
       "      <td>82.0</td>\n",
       "      <td>NaN</td>\n",
       "      <td>NaN</td>\n",
       "      <td>NaN</td>\n",
       "      <td>NaN</td>\n",
       "      <td>NaN</td>\n",
       "    </tr>\n",
       "  </tbody>\n",
       "</table>\n",
       "</div>"
      ],
      "text/plain": [
       "                           Produit   Origine  Aliments pour animaux  \\\n",
       "Zone                                                                  \n",
       "Afghanistan       Abats Comestible   animale                    NaN   \n",
       "Afghanistan        Agrumes, Autres  vegetale                    NaN   \n",
       "Afghanistan  Aliments pour enfants  vegetale                    NaN   \n",
       "Afghanistan                 Ananas  vegetale                    NaN   \n",
       "Afghanistan                Bananes  vegetale                    NaN   \n",
       "\n",
       "             Autres Utilisations  \\\n",
       "Zone                               \n",
       "Afghanistan                  NaN   \n",
       "Afghanistan                  NaN   \n",
       "Afghanistan                  NaN   \n",
       "Afghanistan                  NaN   \n",
       "Afghanistan                  NaN   \n",
       "\n",
       "             Disponibilité alimentaire (Kcal/personne/jour)  \\\n",
       "Zone                                                          \n",
       "Afghanistan                                             5.0   \n",
       "Afghanistan                                             1.0   \n",
       "Afghanistan                                             1.0   \n",
       "Afghanistan                                             0.0   \n",
       "Afghanistan                                             4.0   \n",
       "\n",
       "             Disponibilité alimentaire en quantité (kg/personne/an)  \\\n",
       "Zone                                                                  \n",
       "Afghanistan                                               1.72        \n",
       "Afghanistan                                               1.29        \n",
       "Afghanistan                                               0.06        \n",
       "Afghanistan                                               0.00        \n",
       "Afghanistan                                               2.70        \n",
       "\n",
       "             Disponibilité de matière grasse en quantité (g/personne/jour)  \\\n",
       "Zone                                                                         \n",
       "Afghanistan                                               0.20               \n",
       "Afghanistan                                               0.01               \n",
       "Afghanistan                                               0.01               \n",
       "Afghanistan                                                NaN               \n",
       "Afghanistan                                               0.02               \n",
       "\n",
       "             Disponibilité de protéines en quantité (g/personne/jour)  \\\n",
       "Zone                                                                    \n",
       "Afghanistan                                               0.77          \n",
       "Afghanistan                                               0.02          \n",
       "Afghanistan                                               0.03          \n",
       "Afghanistan                                                NaN          \n",
       "Afghanistan                                               0.05          \n",
       "\n",
       "             Disponibilité intérieure  Exportations - Quantité  \\\n",
       "Zone                                                             \n",
       "Afghanistan                      53.0                      NaN   \n",
       "Afghanistan                      41.0                      2.0   \n",
       "Afghanistan                       2.0                      NaN   \n",
       "Afghanistan                       0.0                      NaN   \n",
       "Afghanistan                      82.0                      NaN   \n",
       "\n",
       "             Importations - Quantité  Nourriture  Pertes  Production  \\\n",
       "Zone                                                                   \n",
       "Afghanistan                      NaN        53.0     NaN        53.0   \n",
       "Afghanistan                     40.0        39.0     2.0         3.0   \n",
       "Afghanistan                      2.0         2.0     NaN         NaN   \n",
       "Afghanistan                      0.0         0.0     NaN         NaN   \n",
       "Afghanistan                     82.0        82.0     NaN         NaN   \n",
       "\n",
       "             Semences  Traitement  Variation de stock  \n",
       "Zone                                                   \n",
       "Afghanistan       NaN         NaN                 NaN  \n",
       "Afghanistan       NaN         NaN                 NaN  \n",
       "Afghanistan       NaN         NaN                 NaN  \n",
       "Afghanistan       NaN         NaN                 NaN  \n",
       "Afghanistan       NaN         NaN                 NaN  "
      ]
     },
     "execution_count": 33,
     "metadata": {},
     "output_type": "execute_result"
    }
   ],
   "source": [
    "dispoali.head()"
   ]
  },
  {
   "cell_type": "code",
   "execution_count": 34,
   "metadata": {
    "hidden": true
   },
   "outputs": [
    {
     "data": {
      "text/plain": [
       "(15605, 17)"
      ]
     },
     "execution_count": 34,
     "metadata": {},
     "output_type": "execute_result"
    }
   ],
   "source": [
    "# number of columns and rows\n",
    "dispoali.shape"
   ]
  },
  {
   "cell_type": "code",
   "execution_count": 35,
   "metadata": {
    "hidden": true
   },
   "outputs": [
    {
     "name": "stdout",
     "output_type": "stream",
     "text": [
      "True\n"
     ]
    }
   ],
   "source": [
    "# Is there any null value?\n",
    "print(dispoali.isnull().values.any())"
   ]
  },
  {
   "cell_type": "code",
   "execution_count": 36,
   "metadata": {
    "hidden": true
   },
   "outputs": [
    {
     "data": {
      "text/html": [
       "<div>\n",
       "<style scoped>\n",
       "    .dataframe tbody tr th:only-of-type {\n",
       "        vertical-align: middle;\n",
       "    }\n",
       "\n",
       "    .dataframe tbody tr th {\n",
       "        vertical-align: top;\n",
       "    }\n",
       "\n",
       "    .dataframe thead th {\n",
       "        text-align: right;\n",
       "    }\n",
       "</style>\n",
       "<table border=\"1\" class=\"dataframe\">\n",
       "  <thead>\n",
       "    <tr style=\"text-align: right;\">\n",
       "      <th></th>\n",
       "      <th>Produit</th>\n",
       "      <th>Origine</th>\n",
       "      <th>Aliments pour animaux</th>\n",
       "      <th>Autres Utilisations</th>\n",
       "      <th>Disponibilité alimentaire (Kcal/personne/jour)</th>\n",
       "      <th>Disponibilité alimentaire en quantité (kg/personne/an)</th>\n",
       "      <th>Disponibilité de matière grasse en quantité (g/personne/jour)</th>\n",
       "      <th>Disponibilité de protéines en quantité (g/personne/jour)</th>\n",
       "      <th>Disponibilité intérieure</th>\n",
       "      <th>Exportations - Quantité</th>\n",
       "      <th>Importations - Quantité</th>\n",
       "      <th>Nourriture</th>\n",
       "      <th>Pertes</th>\n",
       "      <th>Production</th>\n",
       "      <th>Semences</th>\n",
       "      <th>Traitement</th>\n",
       "      <th>Variation de stock</th>\n",
       "    </tr>\n",
       "  </thead>\n",
       "  <tbody>\n",
       "    <tr>\n",
       "      <td>count</td>\n",
       "      <td>15605</td>\n",
       "      <td>15605</td>\n",
       "      <td>2720.000000</td>\n",
       "      <td>5496.000000</td>\n",
       "      <td>14241.000000</td>\n",
       "      <td>14015.000000</td>\n",
       "      <td>11794.000000</td>\n",
       "      <td>11561.000000</td>\n",
       "      <td>15382.000000</td>\n",
       "      <td>12226.000000</td>\n",
       "      <td>14852.000000</td>\n",
       "      <td>14015.000000</td>\n",
       "      <td>4278.000000</td>\n",
       "      <td>9180.000000</td>\n",
       "      <td>2091.000000</td>\n",
       "      <td>2292.000000</td>\n",
       "      <td>6776.000000</td>\n",
       "    </tr>\n",
       "    <tr>\n",
       "      <td>unique</td>\n",
       "      <td>98</td>\n",
       "      <td>2</td>\n",
       "      <td>NaN</td>\n",
       "      <td>NaN</td>\n",
       "      <td>NaN</td>\n",
       "      <td>NaN</td>\n",
       "      <td>NaN</td>\n",
       "      <td>NaN</td>\n",
       "      <td>NaN</td>\n",
       "      <td>NaN</td>\n",
       "      <td>NaN</td>\n",
       "      <td>NaN</td>\n",
       "      <td>NaN</td>\n",
       "      <td>NaN</td>\n",
       "      <td>NaN</td>\n",
       "      <td>NaN</td>\n",
       "      <td>NaN</td>\n",
       "    </tr>\n",
       "    <tr>\n",
       "      <td>top</td>\n",
       "      <td>Riz (Eq Blanchi)</td>\n",
       "      <td>vegetale</td>\n",
       "      <td>NaN</td>\n",
       "      <td>NaN</td>\n",
       "      <td>NaN</td>\n",
       "      <td>NaN</td>\n",
       "      <td>NaN</td>\n",
       "      <td>NaN</td>\n",
       "      <td>NaN</td>\n",
       "      <td>NaN</td>\n",
       "      <td>NaN</td>\n",
       "      <td>NaN</td>\n",
       "      <td>NaN</td>\n",
       "      <td>NaN</td>\n",
       "      <td>NaN</td>\n",
       "      <td>NaN</td>\n",
       "      <td>NaN</td>\n",
       "    </tr>\n",
       "    <tr>\n",
       "      <td>freq</td>\n",
       "      <td>174</td>\n",
       "      <td>11896</td>\n",
       "      <td>NaN</td>\n",
       "      <td>NaN</td>\n",
       "      <td>NaN</td>\n",
       "      <td>NaN</td>\n",
       "      <td>NaN</td>\n",
       "      <td>NaN</td>\n",
       "      <td>NaN</td>\n",
       "      <td>NaN</td>\n",
       "      <td>NaN</td>\n",
       "      <td>NaN</td>\n",
       "      <td>NaN</td>\n",
       "      <td>NaN</td>\n",
       "      <td>NaN</td>\n",
       "      <td>NaN</td>\n",
       "      <td>NaN</td>\n",
       "    </tr>\n",
       "    <tr>\n",
       "      <td>mean</td>\n",
       "      <td>NaN</td>\n",
       "      <td>NaN</td>\n",
       "      <td>479.501838</td>\n",
       "      <td>157.391376</td>\n",
       "      <td>34.789832</td>\n",
       "      <td>8.719368</td>\n",
       "      <td>1.283111</td>\n",
       "      <td>1.223608</td>\n",
       "      <td>640.293460</td>\n",
       "      <td>110.596925</td>\n",
       "      <td>87.264543</td>\n",
       "      <td>347.931359</td>\n",
       "      <td>106.053763</td>\n",
       "      <td>1090.379085</td>\n",
       "      <td>73.974653</td>\n",
       "      <td>961.905323</td>\n",
       "      <td>-15.407615</td>\n",
       "    </tr>\n",
       "    <tr>\n",
       "      <td>std</td>\n",
       "      <td>NaN</td>\n",
       "      <td>NaN</td>\n",
       "      <td>4240.119637</td>\n",
       "      <td>5076.785816</td>\n",
       "      <td>107.287655</td>\n",
       "      <td>24.618223</td>\n",
       "      <td>3.680399</td>\n",
       "      <td>3.598686</td>\n",
       "      <td>9067.267153</td>\n",
       "      <td>1053.318990</td>\n",
       "      <td>717.372714</td>\n",
       "      <td>4475.704458</td>\n",
       "      <td>1113.100416</td>\n",
       "      <td>12067.344094</td>\n",
       "      <td>528.069224</td>\n",
       "      <td>10381.795904</td>\n",
       "      <td>549.834540</td>\n",
       "    </tr>\n",
       "    <tr>\n",
       "      <td>min</td>\n",
       "      <td>NaN</td>\n",
       "      <td>NaN</td>\n",
       "      <td>0.000000</td>\n",
       "      <td>0.000000</td>\n",
       "      <td>-21.000000</td>\n",
       "      <td>-1.930000</td>\n",
       "      <td>-0.030000</td>\n",
       "      <td>-0.370000</td>\n",
       "      <td>-3430.000000</td>\n",
       "      <td>-41.000000</td>\n",
       "      <td>-201.000000</td>\n",
       "      <td>-246.000000</td>\n",
       "      <td>0.000000</td>\n",
       "      <td>0.000000</td>\n",
       "      <td>0.000000</td>\n",
       "      <td>-19.000000</td>\n",
       "      <td>-39863.000000</td>\n",
       "    </tr>\n",
       "    <tr>\n",
       "      <td>25%</td>\n",
       "      <td>NaN</td>\n",
       "      <td>NaN</td>\n",
       "      <td>0.000000</td>\n",
       "      <td>0.000000</td>\n",
       "      <td>0.000000</td>\n",
       "      <td>0.060000</td>\n",
       "      <td>0.010000</td>\n",
       "      <td>0.010000</td>\n",
       "      <td>0.000000</td>\n",
       "      <td>0.000000</td>\n",
       "      <td>0.000000</td>\n",
       "      <td>0.000000</td>\n",
       "      <td>0.000000</td>\n",
       "      <td>2.000000</td>\n",
       "      <td>0.000000</td>\n",
       "      <td>0.000000</td>\n",
       "      <td>0.000000</td>\n",
       "    </tr>\n",
       "    <tr>\n",
       "      <td>50%</td>\n",
       "      <td>NaN</td>\n",
       "      <td>NaN</td>\n",
       "      <td>4.000000</td>\n",
       "      <td>0.000000</td>\n",
       "      <td>4.000000</td>\n",
       "      <td>0.830000</td>\n",
       "      <td>0.080000</td>\n",
       "      <td>0.100000</td>\n",
       "      <td>7.000000</td>\n",
       "      <td>0.000000</td>\n",
       "      <td>2.000000</td>\n",
       "      <td>5.000000</td>\n",
       "      <td>4.000000</td>\n",
       "      <td>22.000000</td>\n",
       "      <td>2.000000</td>\n",
       "      <td>6.000000</td>\n",
       "      <td>0.000000</td>\n",
       "    </tr>\n",
       "    <tr>\n",
       "      <td>75%</td>\n",
       "      <td>NaN</td>\n",
       "      <td>NaN</td>\n",
       "      <td>74.000000</td>\n",
       "      <td>4.000000</td>\n",
       "      <td>21.000000</td>\n",
       "      <td>5.190000</td>\n",
       "      <td>0.630000</td>\n",
       "      <td>0.660000</td>\n",
       "      <td>76.750000</td>\n",
       "      <td>9.000000</td>\n",
       "      <td>18.000000</td>\n",
       "      <td>52.000000</td>\n",
       "      <td>26.000000</td>\n",
       "      <td>191.250000</td>\n",
       "      <td>17.000000</td>\n",
       "      <td>69.000000</td>\n",
       "      <td>0.000000</td>\n",
       "    </tr>\n",
       "    <tr>\n",
       "      <td>max</td>\n",
       "      <td>NaN</td>\n",
       "      <td>NaN</td>\n",
       "      <td>150000.000000</td>\n",
       "      <td>347309.000000</td>\n",
       "      <td>1711.000000</td>\n",
       "      <td>430.760000</td>\n",
       "      <td>60.760000</td>\n",
       "      <td>54.970000</td>\n",
       "      <td>739267.000000</td>\n",
       "      <td>42797.000000</td>\n",
       "      <td>63381.000000</td>\n",
       "      <td>426850.000000</td>\n",
       "      <td>55047.000000</td>\n",
       "      <td>739267.000000</td>\n",
       "      <td>17060.000000</td>\n",
       "      <td>326711.000000</td>\n",
       "      <td>5284.000000</td>\n",
       "    </tr>\n",
       "  </tbody>\n",
       "</table>\n",
       "</div>"
      ],
      "text/plain": [
       "                 Produit   Origine  Aliments pour animaux  \\\n",
       "count              15605     15605            2720.000000   \n",
       "unique                98         2                    NaN   \n",
       "top     Riz (Eq Blanchi)  vegetale                    NaN   \n",
       "freq                 174     11896                    NaN   \n",
       "mean                 NaN       NaN             479.501838   \n",
       "std                  NaN       NaN            4240.119637   \n",
       "min                  NaN       NaN               0.000000   \n",
       "25%                  NaN       NaN               0.000000   \n",
       "50%                  NaN       NaN               4.000000   \n",
       "75%                  NaN       NaN              74.000000   \n",
       "max                  NaN       NaN          150000.000000   \n",
       "\n",
       "        Autres Utilisations  Disponibilité alimentaire (Kcal/personne/jour)  \\\n",
       "count           5496.000000                                    14241.000000   \n",
       "unique                  NaN                                             NaN   \n",
       "top                     NaN                                             NaN   \n",
       "freq                    NaN                                             NaN   \n",
       "mean             157.391376                                       34.789832   \n",
       "std             5076.785816                                      107.287655   \n",
       "min                0.000000                                      -21.000000   \n",
       "25%                0.000000                                        0.000000   \n",
       "50%                0.000000                                        4.000000   \n",
       "75%                4.000000                                       21.000000   \n",
       "max           347309.000000                                     1711.000000   \n",
       "\n",
       "        Disponibilité alimentaire en quantité (kg/personne/an)  \\\n",
       "count                                        14015.000000        \n",
       "unique                                                NaN        \n",
       "top                                                   NaN        \n",
       "freq                                                  NaN        \n",
       "mean                                             8.719368        \n",
       "std                                             24.618223        \n",
       "min                                             -1.930000        \n",
       "25%                                              0.060000        \n",
       "50%                                              0.830000        \n",
       "75%                                              5.190000        \n",
       "max                                            430.760000        \n",
       "\n",
       "        Disponibilité de matière grasse en quantité (g/personne/jour)  \\\n",
       "count                                        11794.000000               \n",
       "unique                                                NaN               \n",
       "top                                                   NaN               \n",
       "freq                                                  NaN               \n",
       "mean                                             1.283111               \n",
       "std                                              3.680399               \n",
       "min                                             -0.030000               \n",
       "25%                                              0.010000               \n",
       "50%                                              0.080000               \n",
       "75%                                              0.630000               \n",
       "max                                             60.760000               \n",
       "\n",
       "        Disponibilité de protéines en quantité (g/personne/jour)  \\\n",
       "count                                        11561.000000          \n",
       "unique                                                NaN          \n",
       "top                                                   NaN          \n",
       "freq                                                  NaN          \n",
       "mean                                             1.223608          \n",
       "std                                              3.598686          \n",
       "min                                             -0.370000          \n",
       "25%                                              0.010000          \n",
       "50%                                              0.100000          \n",
       "75%                                              0.660000          \n",
       "max                                             54.970000          \n",
       "\n",
       "        Disponibilité intérieure  Exportations - Quantité  \\\n",
       "count               15382.000000             12226.000000   \n",
       "unique                       NaN                      NaN   \n",
       "top                          NaN                      NaN   \n",
       "freq                         NaN                      NaN   \n",
       "mean                  640.293460               110.596925   \n",
       "std                  9067.267153              1053.318990   \n",
       "min                 -3430.000000               -41.000000   \n",
       "25%                     0.000000                 0.000000   \n",
       "50%                     7.000000                 0.000000   \n",
       "75%                    76.750000                 9.000000   \n",
       "max                739267.000000             42797.000000   \n",
       "\n",
       "        Importations - Quantité     Nourriture        Pertes     Production  \\\n",
       "count              14852.000000   14015.000000   4278.000000    9180.000000   \n",
       "unique                      NaN            NaN           NaN            NaN   \n",
       "top                         NaN            NaN           NaN            NaN   \n",
       "freq                        NaN            NaN           NaN            NaN   \n",
       "mean                  87.264543     347.931359    106.053763    1090.379085   \n",
       "std                  717.372714    4475.704458   1113.100416   12067.344094   \n",
       "min                 -201.000000    -246.000000      0.000000       0.000000   \n",
       "25%                    0.000000       0.000000      0.000000       2.000000   \n",
       "50%                    2.000000       5.000000      4.000000      22.000000   \n",
       "75%                   18.000000      52.000000     26.000000     191.250000   \n",
       "max                63381.000000  426850.000000  55047.000000  739267.000000   \n",
       "\n",
       "            Semences     Traitement  Variation de stock  \n",
       "count    2091.000000    2292.000000         6776.000000  \n",
       "unique           NaN            NaN                 NaN  \n",
       "top              NaN            NaN                 NaN  \n",
       "freq             NaN            NaN                 NaN  \n",
       "mean       73.974653     961.905323          -15.407615  \n",
       "std       528.069224   10381.795904          549.834540  \n",
       "min         0.000000     -19.000000       -39863.000000  \n",
       "25%         0.000000       0.000000            0.000000  \n",
       "50%         2.000000       6.000000            0.000000  \n",
       "75%        17.000000      69.000000            0.000000  \n",
       "max     17060.000000  326711.000000         5284.000000  "
      ]
     },
     "execution_count": 36,
     "metadata": {},
     "output_type": "execute_result"
    }
   ],
   "source": [
    "dispoali.describe(include = \"all\")"
   ]
  },
  {
   "cell_type": "code",
   "execution_count": 37,
   "metadata": {
    "hidden": true
   },
   "outputs": [
    {
     "name": "stdout",
     "output_type": "stream",
     "text": [
      "<class 'pandas.core.frame.DataFrame'>\n",
      "Index: 15605 entries, Afghanistan to Îles Salomon\n",
      "Data columns (total 17 columns):\n",
      "Produit                                                          15605 non-null object\n",
      "Origine                                                          15605 non-null object\n",
      "Aliments pour animaux                                            2720 non-null float64\n",
      "Autres Utilisations                                              5496 non-null float64\n",
      "Disponibilité alimentaire (Kcal/personne/jour)                   14241 non-null float64\n",
      "Disponibilité alimentaire en quantité (kg/personne/an)           14015 non-null float64\n",
      "Disponibilité de matière grasse en quantité (g/personne/jour)    11794 non-null float64\n",
      "Disponibilité de protéines en quantité (g/personne/jour)         11561 non-null float64\n",
      "Disponibilité intérieure                                         15382 non-null float64\n",
      "Exportations - Quantité                                          12226 non-null float64\n",
      "Importations - Quantité                                          14852 non-null float64\n",
      "Nourriture                                                       14015 non-null float64\n",
      "Pertes                                                           4278 non-null float64\n",
      "Production                                                       9180 non-null float64\n",
      "Semences                                                         2091 non-null float64\n",
      "Traitement                                                       2292 non-null float64\n",
      "Variation de stock                                               6776 non-null float64\n",
      "dtypes: float64(15), object(2)\n",
      "memory usage: 2.1+ MB\n"
     ]
    }
   ],
   "source": [
    "dispoali.info()"
   ]
  },
  {
   "cell_type": "code",
   "execution_count": 38,
   "metadata": {
    "hidden": true
   },
   "outputs": [],
   "source": [
    "# Merge the population in df2017 and dispoali\n",
    "dispoali = dispoali.merge(df2017[\"Valeur_population\"], how = \"left\", left_on = \"Zone\", right_on = \"Zone\")"
   ]
  },
  {
   "cell_type": "code",
   "execution_count": 39,
   "metadata": {
    "hidden": true
   },
   "outputs": [
    {
     "data": {
      "text/html": [
       "<div>\n",
       "<style scoped>\n",
       "    .dataframe tbody tr th:only-of-type {\n",
       "        vertical-align: middle;\n",
       "    }\n",
       "\n",
       "    .dataframe tbody tr th {\n",
       "        vertical-align: top;\n",
       "    }\n",
       "\n",
       "    .dataframe thead th {\n",
       "        text-align: right;\n",
       "    }\n",
       "</style>\n",
       "<table border=\"1\" class=\"dataframe\">\n",
       "  <thead>\n",
       "    <tr style=\"text-align: right;\">\n",
       "      <th></th>\n",
       "      <th>Produit</th>\n",
       "      <th>Origine</th>\n",
       "      <th>Aliments pour animaux</th>\n",
       "      <th>Autres Utilisations</th>\n",
       "      <th>Disponibilité alimentaire (Kcal/personne/jour)</th>\n",
       "      <th>Disponibilité alimentaire en quantité (kg/personne/an)</th>\n",
       "      <th>Disponibilité de matière grasse en quantité (g/personne/jour)</th>\n",
       "      <th>Disponibilité de protéines en quantité (g/personne/jour)</th>\n",
       "      <th>Disponibilité intérieure</th>\n",
       "      <th>Exportations - Quantité</th>\n",
       "      <th>Importations - Quantité</th>\n",
       "      <th>Nourriture</th>\n",
       "      <th>Pertes</th>\n",
       "      <th>Production</th>\n",
       "      <th>Semences</th>\n",
       "      <th>Traitement</th>\n",
       "      <th>Variation de stock</th>\n",
       "      <th>Valeur_population</th>\n",
       "    </tr>\n",
       "    <tr>\n",
       "      <th>Zone</th>\n",
       "      <th></th>\n",
       "      <th></th>\n",
       "      <th></th>\n",
       "      <th></th>\n",
       "      <th></th>\n",
       "      <th></th>\n",
       "      <th></th>\n",
       "      <th></th>\n",
       "      <th></th>\n",
       "      <th></th>\n",
       "      <th></th>\n",
       "      <th></th>\n",
       "      <th></th>\n",
       "      <th></th>\n",
       "      <th></th>\n",
       "      <th></th>\n",
       "      <th></th>\n",
       "      <th></th>\n",
       "    </tr>\n",
       "  </thead>\n",
       "  <tbody>\n",
       "    <tr>\n",
       "      <td>Afghanistan</td>\n",
       "      <td>Abats Comestible</td>\n",
       "      <td>animale</td>\n",
       "      <td>NaN</td>\n",
       "      <td>NaN</td>\n",
       "      <td>5.0</td>\n",
       "      <td>1.72</td>\n",
       "      <td>0.20</td>\n",
       "      <td>0.77</td>\n",
       "      <td>53.0</td>\n",
       "      <td>NaN</td>\n",
       "      <td>NaN</td>\n",
       "      <td>53.0</td>\n",
       "      <td>NaN</td>\n",
       "      <td>53.0</td>\n",
       "      <td>NaN</td>\n",
       "      <td>NaN</td>\n",
       "      <td>NaN</td>\n",
       "      <td>36296.113</td>\n",
       "    </tr>\n",
       "    <tr>\n",
       "      <td>Afghanistan</td>\n",
       "      <td>Agrumes, Autres</td>\n",
       "      <td>vegetale</td>\n",
       "      <td>NaN</td>\n",
       "      <td>NaN</td>\n",
       "      <td>1.0</td>\n",
       "      <td>1.29</td>\n",
       "      <td>0.01</td>\n",
       "      <td>0.02</td>\n",
       "      <td>41.0</td>\n",
       "      <td>2.0</td>\n",
       "      <td>40.0</td>\n",
       "      <td>39.0</td>\n",
       "      <td>2.0</td>\n",
       "      <td>3.0</td>\n",
       "      <td>NaN</td>\n",
       "      <td>NaN</td>\n",
       "      <td>NaN</td>\n",
       "      <td>36296.113</td>\n",
       "    </tr>\n",
       "    <tr>\n",
       "      <td>Afghanistan</td>\n",
       "      <td>Aliments pour enfants</td>\n",
       "      <td>vegetale</td>\n",
       "      <td>NaN</td>\n",
       "      <td>NaN</td>\n",
       "      <td>1.0</td>\n",
       "      <td>0.06</td>\n",
       "      <td>0.01</td>\n",
       "      <td>0.03</td>\n",
       "      <td>2.0</td>\n",
       "      <td>NaN</td>\n",
       "      <td>2.0</td>\n",
       "      <td>2.0</td>\n",
       "      <td>NaN</td>\n",
       "      <td>NaN</td>\n",
       "      <td>NaN</td>\n",
       "      <td>NaN</td>\n",
       "      <td>NaN</td>\n",
       "      <td>36296.113</td>\n",
       "    </tr>\n",
       "    <tr>\n",
       "      <td>Afghanistan</td>\n",
       "      <td>Ananas</td>\n",
       "      <td>vegetale</td>\n",
       "      <td>NaN</td>\n",
       "      <td>NaN</td>\n",
       "      <td>0.0</td>\n",
       "      <td>0.00</td>\n",
       "      <td>NaN</td>\n",
       "      <td>NaN</td>\n",
       "      <td>0.0</td>\n",
       "      <td>NaN</td>\n",
       "      <td>0.0</td>\n",
       "      <td>0.0</td>\n",
       "      <td>NaN</td>\n",
       "      <td>NaN</td>\n",
       "      <td>NaN</td>\n",
       "      <td>NaN</td>\n",
       "      <td>NaN</td>\n",
       "      <td>36296.113</td>\n",
       "    </tr>\n",
       "    <tr>\n",
       "      <td>Afghanistan</td>\n",
       "      <td>Bananes</td>\n",
       "      <td>vegetale</td>\n",
       "      <td>NaN</td>\n",
       "      <td>NaN</td>\n",
       "      <td>4.0</td>\n",
       "      <td>2.70</td>\n",
       "      <td>0.02</td>\n",
       "      <td>0.05</td>\n",
       "      <td>82.0</td>\n",
       "      <td>NaN</td>\n",
       "      <td>82.0</td>\n",
       "      <td>82.0</td>\n",
       "      <td>NaN</td>\n",
       "      <td>NaN</td>\n",
       "      <td>NaN</td>\n",
       "      <td>NaN</td>\n",
       "      <td>NaN</td>\n",
       "      <td>36296.113</td>\n",
       "    </tr>\n",
       "  </tbody>\n",
       "</table>\n",
       "</div>"
      ],
      "text/plain": [
       "                           Produit   Origine  Aliments pour animaux  \\\n",
       "Zone                                                                  \n",
       "Afghanistan       Abats Comestible   animale                    NaN   \n",
       "Afghanistan        Agrumes, Autres  vegetale                    NaN   \n",
       "Afghanistan  Aliments pour enfants  vegetale                    NaN   \n",
       "Afghanistan                 Ananas  vegetale                    NaN   \n",
       "Afghanistan                Bananes  vegetale                    NaN   \n",
       "\n",
       "             Autres Utilisations  \\\n",
       "Zone                               \n",
       "Afghanistan                  NaN   \n",
       "Afghanistan                  NaN   \n",
       "Afghanistan                  NaN   \n",
       "Afghanistan                  NaN   \n",
       "Afghanistan                  NaN   \n",
       "\n",
       "             Disponibilité alimentaire (Kcal/personne/jour)  \\\n",
       "Zone                                                          \n",
       "Afghanistan                                             5.0   \n",
       "Afghanistan                                             1.0   \n",
       "Afghanistan                                             1.0   \n",
       "Afghanistan                                             0.0   \n",
       "Afghanistan                                             4.0   \n",
       "\n",
       "             Disponibilité alimentaire en quantité (kg/personne/an)  \\\n",
       "Zone                                                                  \n",
       "Afghanistan                                               1.72        \n",
       "Afghanistan                                               1.29        \n",
       "Afghanistan                                               0.06        \n",
       "Afghanistan                                               0.00        \n",
       "Afghanistan                                               2.70        \n",
       "\n",
       "             Disponibilité de matière grasse en quantité (g/personne/jour)  \\\n",
       "Zone                                                                         \n",
       "Afghanistan                                               0.20               \n",
       "Afghanistan                                               0.01               \n",
       "Afghanistan                                               0.01               \n",
       "Afghanistan                                                NaN               \n",
       "Afghanistan                                               0.02               \n",
       "\n",
       "             Disponibilité de protéines en quantité (g/personne/jour)  \\\n",
       "Zone                                                                    \n",
       "Afghanistan                                               0.77          \n",
       "Afghanistan                                               0.02          \n",
       "Afghanistan                                               0.03          \n",
       "Afghanistan                                                NaN          \n",
       "Afghanistan                                               0.05          \n",
       "\n",
       "             Disponibilité intérieure  Exportations - Quantité  \\\n",
       "Zone                                                             \n",
       "Afghanistan                      53.0                      NaN   \n",
       "Afghanistan                      41.0                      2.0   \n",
       "Afghanistan                       2.0                      NaN   \n",
       "Afghanistan                       0.0                      NaN   \n",
       "Afghanistan                      82.0                      NaN   \n",
       "\n",
       "             Importations - Quantité  Nourriture  Pertes  Production  \\\n",
       "Zone                                                                   \n",
       "Afghanistan                      NaN        53.0     NaN        53.0   \n",
       "Afghanistan                     40.0        39.0     2.0         3.0   \n",
       "Afghanistan                      2.0         2.0     NaN         NaN   \n",
       "Afghanistan                      0.0         0.0     NaN         NaN   \n",
       "Afghanistan                     82.0        82.0     NaN         NaN   \n",
       "\n",
       "             Semences  Traitement  Variation de stock  Valeur_population  \n",
       "Zone                                                                      \n",
       "Afghanistan       NaN         NaN                 NaN          36296.113  \n",
       "Afghanistan       NaN         NaN                 NaN          36296.113  \n",
       "Afghanistan       NaN         NaN                 NaN          36296.113  \n",
       "Afghanistan       NaN         NaN                 NaN          36296.113  \n",
       "Afghanistan       NaN         NaN                 NaN          36296.113  "
      ]
     },
     "execution_count": 39,
     "metadata": {},
     "output_type": "execute_result"
    }
   ],
   "source": [
    "dispoali.head()"
   ]
  },
  {
   "cell_type": "code",
   "execution_count": 40,
   "metadata": {
    "hidden": true
   },
   "outputs": [],
   "source": [
    "# Add the column \"population\" -> Convert into million\n",
    "dispoali[\"population\"] = dispoali[\"Valeur_population\"] * 1000"
   ]
  },
  {
   "cell_type": "code",
   "execution_count": 41,
   "metadata": {
    "hidden": true
   },
   "outputs": [],
   "source": [
    "# Delete the column \"Valeur_population\"\n",
    "del dispoali[\"Valeur_population\"]"
   ]
  },
  {
   "cell_type": "code",
   "execution_count": 42,
   "metadata": {
    "hidden": true
   },
   "outputs": [],
   "source": [
    "# Create the column \"Disponibilité en Kcal/personne/an\"\n",
    "dispoali[\"Disponibilité alimentaire en million (Kcal/jour)\"] = np.round((dispoali[\"Disponibilité alimentaire (Kcal/personne/jour)\"]*dispoali[\"population\"])/1000000,2)"
   ]
  },
  {
   "cell_type": "code",
   "execution_count": 43,
   "metadata": {
    "hidden": true
   },
   "outputs": [
    {
     "data": {
      "text/html": [
       "<div>\n",
       "<style scoped>\n",
       "    .dataframe tbody tr th:only-of-type {\n",
       "        vertical-align: middle;\n",
       "    }\n",
       "\n",
       "    .dataframe tbody tr th {\n",
       "        vertical-align: top;\n",
       "    }\n",
       "\n",
       "    .dataframe thead th {\n",
       "        text-align: right;\n",
       "    }\n",
       "</style>\n",
       "<table border=\"1\" class=\"dataframe\">\n",
       "  <thead>\n",
       "    <tr style=\"text-align: right;\">\n",
       "      <th></th>\n",
       "      <th>Produit</th>\n",
       "      <th>Origine</th>\n",
       "      <th>Aliments pour animaux</th>\n",
       "      <th>Autres Utilisations</th>\n",
       "      <th>Disponibilité alimentaire (Kcal/personne/jour)</th>\n",
       "      <th>Disponibilité alimentaire en quantité (kg/personne/an)</th>\n",
       "      <th>Disponibilité de matière grasse en quantité (g/personne/jour)</th>\n",
       "      <th>Disponibilité de protéines en quantité (g/personne/jour)</th>\n",
       "      <th>Disponibilité intérieure</th>\n",
       "      <th>Exportations - Quantité</th>\n",
       "      <th>Importations - Quantité</th>\n",
       "      <th>Nourriture</th>\n",
       "      <th>Pertes</th>\n",
       "      <th>Production</th>\n",
       "      <th>Semences</th>\n",
       "      <th>Traitement</th>\n",
       "      <th>Variation de stock</th>\n",
       "      <th>population</th>\n",
       "      <th>Disponibilité alimentaire en million (Kcal/jour)</th>\n",
       "    </tr>\n",
       "    <tr>\n",
       "      <th>Zone</th>\n",
       "      <th></th>\n",
       "      <th></th>\n",
       "      <th></th>\n",
       "      <th></th>\n",
       "      <th></th>\n",
       "      <th></th>\n",
       "      <th></th>\n",
       "      <th></th>\n",
       "      <th></th>\n",
       "      <th></th>\n",
       "      <th></th>\n",
       "      <th></th>\n",
       "      <th></th>\n",
       "      <th></th>\n",
       "      <th></th>\n",
       "      <th></th>\n",
       "      <th></th>\n",
       "      <th></th>\n",
       "      <th></th>\n",
       "    </tr>\n",
       "  </thead>\n",
       "  <tbody>\n",
       "    <tr>\n",
       "      <td>Afghanistan</td>\n",
       "      <td>Abats Comestible</td>\n",
       "      <td>animale</td>\n",
       "      <td>NaN</td>\n",
       "      <td>NaN</td>\n",
       "      <td>5.0</td>\n",
       "      <td>1.72</td>\n",
       "      <td>0.20</td>\n",
       "      <td>0.77</td>\n",
       "      <td>53.0</td>\n",
       "      <td>NaN</td>\n",
       "      <td>NaN</td>\n",
       "      <td>53.0</td>\n",
       "      <td>NaN</td>\n",
       "      <td>53.0</td>\n",
       "      <td>NaN</td>\n",
       "      <td>NaN</td>\n",
       "      <td>NaN</td>\n",
       "      <td>36296113.0</td>\n",
       "      <td>181.48</td>\n",
       "    </tr>\n",
       "    <tr>\n",
       "      <td>Afghanistan</td>\n",
       "      <td>Agrumes, Autres</td>\n",
       "      <td>vegetale</td>\n",
       "      <td>NaN</td>\n",
       "      <td>NaN</td>\n",
       "      <td>1.0</td>\n",
       "      <td>1.29</td>\n",
       "      <td>0.01</td>\n",
       "      <td>0.02</td>\n",
       "      <td>41.0</td>\n",
       "      <td>2.0</td>\n",
       "      <td>40.0</td>\n",
       "      <td>39.0</td>\n",
       "      <td>2.0</td>\n",
       "      <td>3.0</td>\n",
       "      <td>NaN</td>\n",
       "      <td>NaN</td>\n",
       "      <td>NaN</td>\n",
       "      <td>36296113.0</td>\n",
       "      <td>36.30</td>\n",
       "    </tr>\n",
       "    <tr>\n",
       "      <td>Afghanistan</td>\n",
       "      <td>Aliments pour enfants</td>\n",
       "      <td>vegetale</td>\n",
       "      <td>NaN</td>\n",
       "      <td>NaN</td>\n",
       "      <td>1.0</td>\n",
       "      <td>0.06</td>\n",
       "      <td>0.01</td>\n",
       "      <td>0.03</td>\n",
       "      <td>2.0</td>\n",
       "      <td>NaN</td>\n",
       "      <td>2.0</td>\n",
       "      <td>2.0</td>\n",
       "      <td>NaN</td>\n",
       "      <td>NaN</td>\n",
       "      <td>NaN</td>\n",
       "      <td>NaN</td>\n",
       "      <td>NaN</td>\n",
       "      <td>36296113.0</td>\n",
       "      <td>36.30</td>\n",
       "    </tr>\n",
       "    <tr>\n",
       "      <td>Afghanistan</td>\n",
       "      <td>Ananas</td>\n",
       "      <td>vegetale</td>\n",
       "      <td>NaN</td>\n",
       "      <td>NaN</td>\n",
       "      <td>0.0</td>\n",
       "      <td>0.00</td>\n",
       "      <td>NaN</td>\n",
       "      <td>NaN</td>\n",
       "      <td>0.0</td>\n",
       "      <td>NaN</td>\n",
       "      <td>0.0</td>\n",
       "      <td>0.0</td>\n",
       "      <td>NaN</td>\n",
       "      <td>NaN</td>\n",
       "      <td>NaN</td>\n",
       "      <td>NaN</td>\n",
       "      <td>NaN</td>\n",
       "      <td>36296113.0</td>\n",
       "      <td>0.00</td>\n",
       "    </tr>\n",
       "    <tr>\n",
       "      <td>Afghanistan</td>\n",
       "      <td>Bananes</td>\n",
       "      <td>vegetale</td>\n",
       "      <td>NaN</td>\n",
       "      <td>NaN</td>\n",
       "      <td>4.0</td>\n",
       "      <td>2.70</td>\n",
       "      <td>0.02</td>\n",
       "      <td>0.05</td>\n",
       "      <td>82.0</td>\n",
       "      <td>NaN</td>\n",
       "      <td>82.0</td>\n",
       "      <td>82.0</td>\n",
       "      <td>NaN</td>\n",
       "      <td>NaN</td>\n",
       "      <td>NaN</td>\n",
       "      <td>NaN</td>\n",
       "      <td>NaN</td>\n",
       "      <td>36296113.0</td>\n",
       "      <td>145.18</td>\n",
       "    </tr>\n",
       "  </tbody>\n",
       "</table>\n",
       "</div>"
      ],
      "text/plain": [
       "                           Produit   Origine  Aliments pour animaux  \\\n",
       "Zone                                                                  \n",
       "Afghanistan       Abats Comestible   animale                    NaN   \n",
       "Afghanistan        Agrumes, Autres  vegetale                    NaN   \n",
       "Afghanistan  Aliments pour enfants  vegetale                    NaN   \n",
       "Afghanistan                 Ananas  vegetale                    NaN   \n",
       "Afghanistan                Bananes  vegetale                    NaN   \n",
       "\n",
       "             Autres Utilisations  \\\n",
       "Zone                               \n",
       "Afghanistan                  NaN   \n",
       "Afghanistan                  NaN   \n",
       "Afghanistan                  NaN   \n",
       "Afghanistan                  NaN   \n",
       "Afghanistan                  NaN   \n",
       "\n",
       "             Disponibilité alimentaire (Kcal/personne/jour)  \\\n",
       "Zone                                                          \n",
       "Afghanistan                                             5.0   \n",
       "Afghanistan                                             1.0   \n",
       "Afghanistan                                             1.0   \n",
       "Afghanistan                                             0.0   \n",
       "Afghanistan                                             4.0   \n",
       "\n",
       "             Disponibilité alimentaire en quantité (kg/personne/an)  \\\n",
       "Zone                                                                  \n",
       "Afghanistan                                               1.72        \n",
       "Afghanistan                                               1.29        \n",
       "Afghanistan                                               0.06        \n",
       "Afghanistan                                               0.00        \n",
       "Afghanistan                                               2.70        \n",
       "\n",
       "             Disponibilité de matière grasse en quantité (g/personne/jour)  \\\n",
       "Zone                                                                         \n",
       "Afghanistan                                               0.20               \n",
       "Afghanistan                                               0.01               \n",
       "Afghanistan                                               0.01               \n",
       "Afghanistan                                                NaN               \n",
       "Afghanistan                                               0.02               \n",
       "\n",
       "             Disponibilité de protéines en quantité (g/personne/jour)  \\\n",
       "Zone                                                                    \n",
       "Afghanistan                                               0.77          \n",
       "Afghanistan                                               0.02          \n",
       "Afghanistan                                               0.03          \n",
       "Afghanistan                                                NaN          \n",
       "Afghanistan                                               0.05          \n",
       "\n",
       "             Disponibilité intérieure  Exportations - Quantité  \\\n",
       "Zone                                                             \n",
       "Afghanistan                      53.0                      NaN   \n",
       "Afghanistan                      41.0                      2.0   \n",
       "Afghanistan                       2.0                      NaN   \n",
       "Afghanistan                       0.0                      NaN   \n",
       "Afghanistan                      82.0                      NaN   \n",
       "\n",
       "             Importations - Quantité  Nourriture  Pertes  Production  \\\n",
       "Zone                                                                   \n",
       "Afghanistan                      NaN        53.0     NaN        53.0   \n",
       "Afghanistan                     40.0        39.0     2.0         3.0   \n",
       "Afghanistan                      2.0         2.0     NaN         NaN   \n",
       "Afghanistan                      0.0         0.0     NaN         NaN   \n",
       "Afghanistan                     82.0        82.0     NaN         NaN   \n",
       "\n",
       "             Semences  Traitement  Variation de stock  population  \\\n",
       "Zone                                                                \n",
       "Afghanistan       NaN         NaN                 NaN  36296113.0   \n",
       "Afghanistan       NaN         NaN                 NaN  36296113.0   \n",
       "Afghanistan       NaN         NaN                 NaN  36296113.0   \n",
       "Afghanistan       NaN         NaN                 NaN  36296113.0   \n",
       "Afghanistan       NaN         NaN                 NaN  36296113.0   \n",
       "\n",
       "             Disponibilité alimentaire en million (Kcal/jour)  \n",
       "Zone                                                           \n",
       "Afghanistan                                            181.48  \n",
       "Afghanistan                                             36.30  \n",
       "Afghanistan                                             36.30  \n",
       "Afghanistan                                              0.00  \n",
       "Afghanistan                                            145.18  "
      ]
     },
     "execution_count": 43,
     "metadata": {},
     "output_type": "execute_result"
    }
   ],
   "source": [
    "dispoali.head()"
   ]
  },
  {
   "cell_type": "code",
   "execution_count": 44,
   "metadata": {
    "hidden": true
   },
   "outputs": [
    {
     "name": "stdout",
     "output_type": "stream",
     "text": [
      "20918984.58\n"
     ]
    }
   ],
   "source": [
    "# Calculation the sum of \"disponibilité alimentaire Kcal/personne/jour\"\n",
    "total_kcal_jour = dispoali[\"Disponibilité alimentaire en million (Kcal/jour)\"].sum()\n",
    "print(total_kcal_jour)"
   ]
  },
  {
   "cell_type": "code",
   "execution_count": 45,
   "metadata": {
    "hidden": true
   },
   "outputs": [],
   "source": [
    "# Calculation the theorical number of people who could be fed\n",
    "total_theorique_nourrie = total_kcal_jour/2500"
   ]
  },
  {
   "cell_type": "markdown",
   "metadata": {
    "hidden": true
   },
   "source": [
    "I took 2500 because this is the theorical Kcal per person per day. Therefore, I decided to used this number for further calculations."
   ]
  },
  {
   "cell_type": "code",
   "execution_count": 46,
   "metadata": {
    "hidden": true
   },
   "outputs": [],
   "source": [
    "# Covert the result into milliard\n",
    "total_theorique_nourrie = np.round(total_theorique_nourrie/1000,3)"
   ]
  },
  {
   "cell_type": "code",
   "execution_count": 47,
   "metadata": {
    "hidden": true
   },
   "outputs": [
    {
     "name": "stdout",
     "output_type": "stream",
     "text": [
      "Le nombre theorique de personnes qui pourraient être nourries est de: 8.368 milliard d'habitants\n"
     ]
    }
   ],
   "source": [
    "print(\"Le nombre theorique de personnes qui pourraient être nourries est de:\", total_theorique_nourrie, \"milliard d'habitants\")"
   ]
  },
  {
   "cell_type": "markdown",
   "metadata": {
    "hidden": true
   },
   "source": [
    "**Therefore, the theorical number of people who could be fed is 8.368 billion inhabitants.**"
   ]
  },
  {
   "cell_type": "code",
   "execution_count": 48,
   "metadata": {
    "hidden": true
   },
   "outputs": [
    {
     "name": "stdout",
     "output_type": "stream",
     "text": [
      "The proportion de personnes qui pourraient être nourries est de 110.92 %.\n"
     ]
    }
   ],
   "source": [
    "# The proportion of theorical population in 2017 who could be fed by disponibilité intérieure\n",
    "proportion_theorique_nourrie = np.round ((total_theorique_nourrie/population2017)*100,2)\n",
    "print(\"The proportion de personnes qui pourraient être nourries est de\", proportion_theorique_nourrie, \"%.\")"
   ]
  },
  {
   "cell_type": "markdown",
   "metadata": {
    "heading_collapsed": true
   },
   "source": [
    "### 4.4. Le nombre théorique de personnes qui pourraient être nourris avec des produits végétaux"
   ]
  },
  {
   "cell_type": "code",
   "execution_count": 49,
   "metadata": {
    "hidden": true
   },
   "outputs": [],
   "source": [
    "# Calculation the total of food avaiability origin from vegetables in million (Kcal/jour)\n",
    "dispoveg = dispoali[dispoali[\"Origine\"] == \"vegetale\"][\"Disponibilité alimentaire en million (Kcal/jour)\"].sum()"
   ]
  },
  {
   "cell_type": "code",
   "execution_count": 50,
   "metadata": {
    "hidden": true
   },
   "outputs": [],
   "source": [
    "# Calculation the theorical number of people who could be fed with the vegetable products\n",
    "total_theorique_vege = dispoveg/2500"
   ]
  },
  {
   "cell_type": "code",
   "execution_count": 51,
   "metadata": {
    "hidden": true
   },
   "outputs": [],
   "source": [
    "# The theorical number of people in billion\n",
    "total_theorique_vege = np.round(total_theorique_vege/1000,3)"
   ]
  },
  {
   "cell_type": "code",
   "execution_count": 52,
   "metadata": {
    "hidden": true
   },
   "outputs": [
    {
     "name": "stdout",
     "output_type": "stream",
     "text": [
      "Le nombre théorique de personnes qui pourraient entre nourries avec des produits d'origine vegetale est de 6.904 milliard d'habitants\n"
     ]
    }
   ],
   "source": [
    "print(\"Le nombre théorique de personnes qui pourraient entre nourries avec des produits d'origine vegetale est de\", total_theorique_vege, \"milliard d'habitants\")"
   ]
  },
  {
   "cell_type": "markdown",
   "metadata": {
    "hidden": true
   },
   "source": [
    "**The theoretical number of people who could be fed with plant-based products is 6.904 billion.**"
   ]
  },
  {
   "cell_type": "code",
   "execution_count": 53,
   "metadata": {
    "hidden": true
   },
   "outputs": [
    {
     "name": "stdout",
     "output_type": "stream",
     "text": [
      "The proportion de personnes qui pourraient être nourries avec végétaux est de 91.52 %.\n"
     ]
    }
   ],
   "source": [
    "# The proportion of theorical population in 2017 who could be fed by végétaux\n",
    "proportion_theorique_vege = np.round ((total_theorique_vege/population2017)*100,2)\n",
    "print(\"The proportion de personnes qui pourraient être nourries avec végétaux est de\", proportion_theorique_vege, \"%.\")"
   ]
  },
  {
   "cell_type": "markdown",
   "metadata": {
    "heading_collapsed": true
   },
   "source": [
    "### 4.5. L'utilisation de la disponibilité intérieure: alimentation animale"
   ]
  },
  {
   "cell_type": "code",
   "execution_count": 54,
   "metadata": {
    "hidden": true
   },
   "outputs": [],
   "source": [
    "# Calculation the sum of the internal availability\n",
    "total_dispo_int = dispoali[\"Disponibilité intérieure\"].sum()"
   ]
  },
  {
   "cell_type": "code",
   "execution_count": 55,
   "metadata": {
    "hidden": true
   },
   "outputs": [],
   "source": [
    "# Replace the NaN from \"Alimentation animal\" by 0\n",
    "dispoali[\"Aliments pour animaux\"].fillna(0,inplace=True)"
   ]
  },
  {
   "cell_type": "code",
   "execution_count": 56,
   "metadata": {
    "hidden": true
   },
   "outputs": [],
   "source": [
    "# Calculation the sum of the alimentation animale\n",
    "total_alimentation_animale = dispoali[\"Aliments pour animaux\"].sum()"
   ]
  },
  {
   "cell_type": "code",
   "execution_count": 57,
   "metadata": {
    "hidden": true
   },
   "outputs": [],
   "source": [
    "# Proportion of the internal availibility of the animal food\n",
    "total_animale = np.round((total_alimentation_animale/total_dispo_int)*100,2)"
   ]
  },
  {
   "cell_type": "code",
   "execution_count": 58,
   "metadata": {
    "hidden": true
   },
   "outputs": [
    {
     "name": "stdout",
     "output_type": "stream",
     "text": [
      "La proportion de la disponibilité intérieur attribué à l'alimentation animale est de 13.24 %.\n"
     ]
    }
   ],
   "source": [
    "print(\"La proportion de la disponibilité intérieur attribué à l'alimentation animale est de\",total_animale,\"%.\")"
   ]
  },
  {
   "cell_type": "markdown",
   "metadata": {
    "hidden": true
   },
   "source": [
    "**The proportion of domestic availability allocated to animal feed is 13.24%.**"
   ]
  },
  {
   "cell_type": "markdown",
   "metadata": {
    "heading_collapsed": true
   },
   "source": [
    "### 4.6. L'utilisation de la disponibilité intérieure: alimentation perdue"
   ]
  },
  {
   "cell_type": "code",
   "execution_count": 59,
   "metadata": {
    "hidden": true
   },
   "outputs": [],
   "source": [
    "# Replace the NaN from \"Pertes\" by 0\n",
    "dispoali[\"Pertes\"].fillna(0,inplace=True)"
   ]
  },
  {
   "cell_type": "code",
   "execution_count": 60,
   "metadata": {
    "hidden": true
   },
   "outputs": [],
   "source": [
    "# Calculation the sum of the internal availability for losses\n",
    "total_alimentation_pertes = dispoali[\"Pertes\"].sum()"
   ]
  },
  {
   "cell_type": "code",
   "execution_count": 61,
   "metadata": {
    "hidden": true
   },
   "outputs": [],
   "source": [
    "# Proportion of the internal availibility for losses\n",
    "total_pertes = np.round((total_alimentation_pertes/total_dispo_int)*100,2)"
   ]
  },
  {
   "cell_type": "code",
   "execution_count": 62,
   "metadata": {
    "hidden": true
   },
   "outputs": [
    {
     "name": "stdout",
     "output_type": "stream",
     "text": [
      "La proportion de la disponibilité intérieur perdue est de 4.61 %.\n"
     ]
    }
   ],
   "source": [
    "print(\"La proportion de la disponibilité intérieur perdue est de\", total_pertes, \"%.\")"
   ]
  },
  {
   "cell_type": "markdown",
   "metadata": {
    "hidden": true
   },
   "source": [
    "**The proportion of domestic availability lost is 4.61%.**"
   ]
  },
  {
   "cell_type": "markdown",
   "metadata": {
    "heading_collapsed": true
   },
   "source": [
    "### 4.7. L'utilisation de la disponibilité intérieure: alimentation humaine"
   ]
  },
  {
   "cell_type": "code",
   "execution_count": 63,
   "metadata": {
    "hidden": true
   },
   "outputs": [],
   "source": [
    "# Replace the NaN from \"Nourriture\" by 0\n",
    "dispoali[\"Nourriture\"].fillna(0,inplace=True)"
   ]
  },
  {
   "cell_type": "code",
   "execution_count": 64,
   "metadata": {
    "hidden": true
   },
   "outputs": [],
   "source": [
    "# Calculation the amount of internal availability for human consumption\n",
    "total_alimentation_humaine = dispoali[\"Nourriture\"].sum()"
   ]
  },
  {
   "cell_type": "code",
   "execution_count": 65,
   "metadata": {
    "hidden": true
   },
   "outputs": [],
   "source": [
    "# Proportion of internal supply for human consumption\n",
    "total_humaine = np.round((total_alimentation_humaine/total_dispo_int)*100,2)"
   ]
  },
  {
   "cell_type": "code",
   "execution_count": 66,
   "metadata": {
    "hidden": true
   },
   "outputs": [
    {
     "name": "stdout",
     "output_type": "stream",
     "text": [
      "La proportion de la disponibilité intérieur pour l'alimentation humaine est de 49.51 %.\n"
     ]
    }
   ],
   "source": [
    "print(\"La proportion de la disponibilité intérieur pour l'alimentation humaine est de\", total_humaine, \"%.\")"
   ]
  },
  {
   "cell_type": "markdown",
   "metadata": {
    "hidden": true
   },
   "source": [
    "**The proportion of domestic availability for human consumption is 49.51%.**"
   ]
  },
  {
   "cell_type": "markdown",
   "metadata": {},
   "source": [
    "## 5. Question de Julien"
   ]
  },
  {
   "cell_type": "markdown",
   "metadata": {
    "heading_collapsed": true
   },
   "source": [
    "### 5.1. The cereal availability in 2017"
   ]
  },
  {
   "cell_type": "code",
   "execution_count": 67,
   "metadata": {
    "hidden": true
   },
   "outputs": [],
   "source": [
    "# Cereal availability in 2017\n",
    "liste_cereale2017 = [\"Blé et produits\",\"Céréales, Autres\", \"Maïs et produits\", \"Millet et produits\",\"Orge et produits\", \"Riz et produits\", \"Avoine\", \"Sorgho et produits\", \"Seigle et produits\"]\n",
    "df_cereale2017 = dispoali[dispoali[\"Produit\"].isin(liste_cereale2017)].groupby(\"Zone\").sum().reset_index() \n",
    "prop_list2017 = [df_cereale2017[\"Aliments pour animaux\"].sum() / df_cereale2017[\"Disponibilité intérieure\"].sum(),\n",
    "df_cereale2017[\"Nourriture\"].sum() / df_cereale2017[\"Disponibilité intérieure\"].sum(),]\n",
    "prop_list2017.append(1-prop_list2017[0]-prop_list2017[1])"
   ]
  },
  {
   "cell_type": "code",
   "execution_count": 68,
   "metadata": {
    "hidden": true
   },
   "outputs": [
    {
     "data": {
      "text/plain": [
       "[0.6933506248526291, 0.18130550970683015, 0.12534386544054074]"
      ]
     },
     "execution_count": 68,
     "metadata": {},
     "output_type": "execute_result"
    }
   ],
   "source": [
    "# Insight the data\n",
    "prop_list2017"
   ]
  },
  {
   "cell_type": "code",
   "execution_count": 69,
   "metadata": {
    "hidden": true
   },
   "outputs": [
    {
     "data": {
      "image/png": "[encoded data removed]",
      "text/plain": [
       "<Figure size 432x432 with 1 Axes>"
      ]
     },
     "metadata": {},
     "output_type": "display_data"
    }
   ],
   "source": [
    "# Visualization the results by pie plot\n",
    "plt.figure(figsize = (6, 6)) \n",
    "plt.pie(prop_list2017, labels = [ \"Animale\",\"Humaine\", \"Autre\"],autopct = lambda x: str(round(x, 2)) + \"%\")\n",
    "plt.title(\"Répartition des céréales 2017\");"
   ]
  },
  {
   "cell_type": "markdown",
   "metadata": {
    "heading_collapsed": true
   },
   "source": [
    "### 5.2. The cereal availability in 2013"
   ]
  },
  {
   "cell_type": "code",
   "execution_count": 70,
   "metadata": {
    "hidden": true
   },
   "outputs": [],
   "source": [
    "# Cereal availability in 2013\n",
    "liste_cereale2013 = [\"Blé\",\"Céréales, Autres\", \"Maïs\", \"Millet\",\"Orge\", \"Riz (Eq Blanchi)\", \"Avoine\", \"Sorgho\", \"Seigle\"]\n",
    "df_cereale2013 = dispoali[dispoali[\"Produit\"].isin(liste_cereale2013)].groupby(\"Zone\").sum().reset_index() \n",
    "prop_list2013 = [df_cereale2013['Aliments pour animaux'].sum() / df_cereale2013[\"Disponibilité intérieure\"].sum(),\n",
    "df_cereale2013[\"Nourriture\"].sum() / df_cereale2013[\"Disponibilité intérieure\"].sum(),]\n",
    "prop_list2013.append(1-prop_list2013[0]-prop_list2013[1])"
   ]
  },
  {
   "cell_type": "code",
   "execution_count": 71,
   "metadata": {
    "hidden": true
   },
   "outputs": [
    {
     "data": {
      "text/plain": [
       "[0.36291456706047653, 0.4275074480712289, 0.20957798486829454]"
      ]
     },
     "execution_count": 71,
     "metadata": {},
     "output_type": "execute_result"
    }
   ],
   "source": [
    "# Insight the data\n",
    "prop_list2013"
   ]
  },
  {
   "cell_type": "code",
   "execution_count": 72,
   "metadata": {
    "hidden": true
   },
   "outputs": [
    {
     "data": {
      "image/png": "[encoded data removed]",
      "text/plain": [
       "<Figure size 432x432 with 1 Axes>"
      ]
     },
     "metadata": {},
     "output_type": "display_data"
    }
   ],
   "source": [
    "# Visualization the results by pie plot\n",
    "plt.figure(figsize = (6, 6))\n",
    "plt.pie(prop_list2013, labels = [ \"Animale\",\"Humaine\", \"Autre\"],autopct = lambda x: str(round(x, 2)) + '%')\n",
    "plt.title(\"Répartition des céréales 2013\");"
   ]
  },
  {
   "cell_type": "markdown",
   "metadata": {
    "heading_collapsed": true
   },
   "source": [
    "### 5.3. Question Julien: Manioc (Thailand)"
   ]
  },
  {
   "cell_type": "code",
   "execution_count": 73,
   "metadata": {
    "hidden": true
   },
   "outputs": [],
   "source": [
    "# Create the manioc dataset\n",
    "dispoali = dispoali.reset_index()\n",
    "exportation_manioc = dispoali.loc[(dispoali[\"Produit\"] == \"Manioc\") & (dispoali[\"Zone\"] == \"Thaïlande\"),:]"
   ]
  },
  {
   "cell_type": "code",
   "execution_count": 74,
   "metadata": {
    "hidden": true
   },
   "outputs": [
    {
     "data": {
      "text/html": [
       "<div>\n",
       "<style scoped>\n",
       "    .dataframe tbody tr th:only-of-type {\n",
       "        vertical-align: middle;\n",
       "    }\n",
       "\n",
       "    .dataframe tbody tr th {\n",
       "        vertical-align: top;\n",
       "    }\n",
       "\n",
       "    .dataframe thead th {\n",
       "        text-align: right;\n",
       "    }\n",
       "</style>\n",
       "<table border=\"1\" class=\"dataframe\">\n",
       "  <thead>\n",
       "    <tr style=\"text-align: right;\">\n",
       "      <th></th>\n",
       "      <th>Zone</th>\n",
       "      <th>Produit</th>\n",
       "      <th>Origine</th>\n",
       "      <th>Aliments pour animaux</th>\n",
       "      <th>Autres Utilisations</th>\n",
       "      <th>Disponibilité alimentaire (Kcal/personne/jour)</th>\n",
       "      <th>Disponibilité alimentaire en quantité (kg/personne/an)</th>\n",
       "      <th>Disponibilité de matière grasse en quantité (g/personne/jour)</th>\n",
       "      <th>Disponibilité de protéines en quantité (g/personne/jour)</th>\n",
       "      <th>Disponibilité intérieure</th>\n",
       "      <th>Exportations - Quantité</th>\n",
       "      <th>Importations - Quantité</th>\n",
       "      <th>Nourriture</th>\n",
       "      <th>Pertes</th>\n",
       "      <th>Production</th>\n",
       "      <th>Semences</th>\n",
       "      <th>Traitement</th>\n",
       "      <th>Variation de stock</th>\n",
       "      <th>population</th>\n",
       "      <th>Disponibilité alimentaire en million (Kcal/jour)</th>\n",
       "    </tr>\n",
       "  </thead>\n",
       "  <tbody>\n",
       "    <tr>\n",
       "      <td>13809</td>\n",
       "      <td>Thaïlande</td>\n",
       "      <td>Manioc</td>\n",
       "      <td>vegetale</td>\n",
       "      <td>1800.0</td>\n",
       "      <td>2081.0</td>\n",
       "      <td>40.0</td>\n",
       "      <td>13.0</td>\n",
       "      <td>0.05</td>\n",
       "      <td>0.14</td>\n",
       "      <td>6264.0</td>\n",
       "      <td>25214.0</td>\n",
       "      <td>1250.0</td>\n",
       "      <td>871.0</td>\n",
       "      <td>1511.0</td>\n",
       "      <td>30228.0</td>\n",
       "      <td>NaN</td>\n",
       "      <td>0.0</td>\n",
       "      <td>0.0</td>\n",
       "      <td>69209810.0</td>\n",
       "      <td>2768.39</td>\n",
       "    </tr>\n",
       "  </tbody>\n",
       "</table>\n",
       "</div>"
      ],
      "text/plain": [
       "            Zone Produit   Origine  Aliments pour animaux  \\\n",
       "13809  Thaïlande  Manioc  vegetale                 1800.0   \n",
       "\n",
       "       Autres Utilisations  Disponibilité alimentaire (Kcal/personne/jour)  \\\n",
       "13809               2081.0                                            40.0   \n",
       "\n",
       "       Disponibilité alimentaire en quantité (kg/personne/an)  \\\n",
       "13809                                               13.0        \n",
       "\n",
       "       Disponibilité de matière grasse en quantité (g/personne/jour)  \\\n",
       "13809                                               0.05               \n",
       "\n",
       "       Disponibilité de protéines en quantité (g/personne/jour)  \\\n",
       "13809                                               0.14          \n",
       "\n",
       "       Disponibilité intérieure  Exportations - Quantité  \\\n",
       "13809                    6264.0                  25214.0   \n",
       "\n",
       "       Importations - Quantité  Nourriture  Pertes  Production  Semences  \\\n",
       "13809                   1250.0       871.0  1511.0     30228.0       NaN   \n",
       "\n",
       "       Traitement  Variation de stock  population  \\\n",
       "13809         0.0                 0.0  69209810.0   \n",
       "\n",
       "       Disponibilité alimentaire en million (Kcal/jour)  \n",
       "13809                                           2768.39  "
      ]
     },
     "execution_count": 74,
     "metadata": {},
     "output_type": "execute_result"
    }
   ],
   "source": [
    "# Insight this data\n",
    "exportation_manioc.head()"
   ]
  },
  {
   "cell_type": "code",
   "execution_count": 75,
   "metadata": {
    "hidden": true
   },
   "outputs": [],
   "source": [
    "# The proportion of manioc exported\n",
    "prop_exportation_manioc = np.round((exportation_manioc[\"Exportations - Quantité\"]/exportation_manioc[\"Production\"])*100,2)"
   ]
  },
  {
   "cell_type": "code",
   "execution_count": 76,
   "metadata": {
    "hidden": true
   },
   "outputs": [
    {
     "name": "stdout",
     "output_type": "stream",
     "text": [
      "La proportion de manioc exportée est de 13809    83.41\n",
      "dtype: float64 %.\n"
     ]
    }
   ],
   "source": [
    "print(\"La proportion de manioc exportée est de\",prop_exportation_manioc,\"%.\")"
   ]
  },
  {
   "cell_type": "markdown",
   "metadata": {
    "hidden": true
   },
   "source": [
    "**The proportion of manioc exported was 83.41%.**"
   ]
  },
  {
   "cell_type": "code",
   "execution_count": 77,
   "metadata": {
    "hidden": true
   },
   "outputs": [],
   "source": [
    "# Calculation the ratio of undernourrished food in Thailand in 2017\n",
    "df_popu_thailande = df2017.loc[\"Thaïlande\"]\n",
    "sous_nutri_thailande = np.round((df_popu_thailande[\"Valeur_sous_nutrition\"] / df_popu_thailande[\"Valeur_population\"])*100,2)"
   ]
  },
  {
   "cell_type": "code",
   "execution_count": 78,
   "metadata": {
    "hidden": true
   },
   "outputs": [
    {
     "name": "stdout",
     "output_type": "stream",
     "text": [
      "Le pourcentage de sous-nutrition en thailande est de 8.96 %.\n"
     ]
    }
   ],
   "source": [
    "print(\"Le pourcentage de sous-nutrition en thailande est de\",sous_nutri_thailande,\"%.\")"
   ]
  },
  {
   "cell_type": "markdown",
   "metadata": {
    "hidden": true
   },
   "source": [
    "**The proportion of undernourrished people in Thailand in 2017 was 8.96%.**"
   ]
  },
  {
   "cell_type": "code",
   "execution_count": 79,
   "metadata": {
    "hidden": true
   },
   "outputs": [],
   "source": [
    "# Calculation the theorical people which could be fed with manioc \n",
    "# 1kg Manioc can provide from 1250 to 1400 Kcal (ref.:https://devsante.org/articles/le-manioc)\n",
    "# Theoritically, one person needs about 2500 Kcal per day\n",
    "popu_manioc_thailande = exportation_manioc[\"Exportations - Quantité\"]*1250*1000000/2500/365"
   ]
  },
  {
   "cell_type": "code",
   "execution_count": 80,
   "metadata": {
    "hidden": true
   },
   "outputs": [
    {
     "name": "stdout",
     "output_type": "stream",
     "text": [
      "Le nombre d'habitants qui pourraient etre nourries avec l'exportation de manioc en Thailande est 13809    3.453973e+07\n",
      "Name: Exportations - Quantité, dtype: float64 habitants\n"
     ]
    }
   ],
   "source": [
    "print(\"Le nombre d'habitants qui pourraient etre nourries avec l'exportation de manioc en Thailande est\",popu_manioc_thailande,\"habitants\")"
   ]
  },
  {
   "cell_type": "markdown",
   "metadata": {
    "hidden": true
   },
   "source": [
    "**The amount of people could be fed by manioc (Thailand) in theory was about 34539730 people.**"
   ]
  },
  {
   "cell_type": "code",
   "execution_count": 81,
   "metadata": {
    "hidden": true
   },
   "outputs": [],
   "source": [
    "# The ratio of population in Thailand could be fed by manioc\n",
    "prop_popu_thailande = np.round((popu_manioc_thailande/exportation_manioc[\"population\"])*100,2)"
   ]
  },
  {
   "cell_type": "code",
   "execution_count": 82,
   "metadata": {
    "hidden": true
   },
   "outputs": [
    {
     "name": "stdout",
     "output_type": "stream",
     "text": [
      "Ce qui représente 13809    49.91\n",
      "dtype: float64 % de la population de Thailande.\n"
     ]
    }
   ],
   "source": [
    "print(\"Ce qui représente\",prop_popu_thailande, \"% de la population de Thailande.\")"
   ]
  },
  {
   "cell_type": "markdown",
   "metadata": {
    "hidden": true
   },
   "source": [
    "**That amount of manioc could be fed about 49.91% population in Thailand.**"
   ]
  },
  {
   "cell_type": "markdown",
   "metadata": {},
   "source": [
    "## 6. Questions de Mélanie"
   ]
  },
  {
   "cell_type": "markdown",
   "metadata": {
    "heading_collapsed": true
   },
   "source": [
    "### 6.1. Les pays pour lesquels la proportion de personnes sous-alimentées est la plus forte en 2017"
   ]
  },
  {
   "cell_type": "code",
   "execution_count": 83,
   "metadata": {
    "hidden": true
   },
   "outputs": [
    {
     "data": {
      "text/html": [
       "<div>\n",
       "<style scoped>\n",
       "    .dataframe tbody tr th:only-of-type {\n",
       "        vertical-align: middle;\n",
       "    }\n",
       "\n",
       "    .dataframe tbody tr th {\n",
       "        vertical-align: top;\n",
       "    }\n",
       "\n",
       "    .dataframe thead th {\n",
       "        text-align: right;\n",
       "    }\n",
       "</style>\n",
       "<table border=\"1\" class=\"dataframe\">\n",
       "  <thead>\n",
       "    <tr style=\"text-align: right;\">\n",
       "      <th></th>\n",
       "      <th>Année</th>\n",
       "      <th>Valeur_population</th>\n",
       "      <th>Valeur_sous_nutrition</th>\n",
       "    </tr>\n",
       "    <tr>\n",
       "      <th>Zone</th>\n",
       "      <th></th>\n",
       "      <th></th>\n",
       "      <th></th>\n",
       "    </tr>\n",
       "  </thead>\n",
       "  <tbody>\n",
       "    <tr>\n",
       "      <td>Afghanistan</td>\n",
       "      <td>2017</td>\n",
       "      <td>36296.113</td>\n",
       "      <td>10500.0</td>\n",
       "    </tr>\n",
       "    <tr>\n",
       "      <td>Afrique du Sud</td>\n",
       "      <td>2017</td>\n",
       "      <td>57009.756</td>\n",
       "      <td>3100.0</td>\n",
       "    </tr>\n",
       "    <tr>\n",
       "      <td>Albanie</td>\n",
       "      <td>2017</td>\n",
       "      <td>2884.169</td>\n",
       "      <td>100.0</td>\n",
       "    </tr>\n",
       "    <tr>\n",
       "      <td>Algérie</td>\n",
       "      <td>2017</td>\n",
       "      <td>41389.189</td>\n",
       "      <td>1300.0</td>\n",
       "    </tr>\n",
       "    <tr>\n",
       "      <td>Allemagne</td>\n",
       "      <td>2017</td>\n",
       "      <td>82658.409</td>\n",
       "      <td>0.0</td>\n",
       "    </tr>\n",
       "  </tbody>\n",
       "</table>\n",
       "</div>"
      ],
      "text/plain": [
       "                Année  Valeur_population  Valeur_sous_nutrition\n",
       "Zone                                                           \n",
       "Afghanistan      2017          36296.113                10500.0\n",
       "Afrique du Sud   2017          57009.756                 3100.0\n",
       "Albanie          2017           2884.169                  100.0\n",
       "Algérie          2017          41389.189                 1300.0\n",
       "Allemagne        2017          82658.409                    0.0"
      ]
     },
     "execution_count": 83,
     "metadata": {},
     "output_type": "execute_result"
    }
   ],
   "source": [
    "# Insight the df2017\n",
    "df2017.head()"
   ]
  },
  {
   "cell_type": "code",
   "execution_count": 84,
   "metadata": {
    "hidden": true
   },
   "outputs": [
    {
     "name": "stderr",
     "output_type": "stream",
     "text": [
      "/Users/lethituong/opt/anaconda3/lib/python3.7/site-packages/ipykernel_launcher.py:2: SettingWithCopyWarning: \n",
      "A value is trying to be set on a copy of a slice from a DataFrame.\n",
      "Try using .loc[row_indexer,col_indexer] = value instead\n",
      "\n",
      "See the caveats in the documentation: http://pandas.pydata.org/pandas-docs/stable/user_guide/indexing.html#returning-a-view-versus-a-copy\n",
      "  \n"
     ]
    }
   ],
   "source": [
    "# Create the new column of undernourrised proportion \n",
    "df2017[\"Pourcentage_sous_nutrition\"] = np.round((df2017[\"Valeur_sous_nutrition\"] / df2017[\"Valeur_population\"])*100,2)"
   ]
  },
  {
   "cell_type": "code",
   "execution_count": 85,
   "metadata": {
    "hidden": true
   },
   "outputs": [
    {
     "name": "stderr",
     "output_type": "stream",
     "text": [
      "/Users/lethituong/opt/anaconda3/lib/python3.7/site-packages/ipykernel_launcher.py:2: SettingWithCopyWarning: \n",
      "A value is trying to be set on a copy of a slice from a DataFrame\n",
      "\n",
      "See the caveats in the documentation: http://pandas.pydata.org/pandas-docs/stable/user_guide/indexing.html#returning-a-view-versus-a-copy\n",
      "  \n"
     ]
    }
   ],
   "source": [
    "# Clean the data by dropping the NaN value and set it by 0\n",
    "df2017.dropna(subset = [\"Pourcentage_sous_nutrition\"], inplace=True)"
   ]
  },
  {
   "cell_type": "code",
   "execution_count": 86,
   "metadata": {
    "hidden": true
   },
   "outputs": [
    {
     "data": {
      "text/html": [
       "<div>\n",
       "<style scoped>\n",
       "    .dataframe tbody tr th:only-of-type {\n",
       "        vertical-align: middle;\n",
       "    }\n",
       "\n",
       "    .dataframe tbody tr th {\n",
       "        vertical-align: top;\n",
       "    }\n",
       "\n",
       "    .dataframe thead th {\n",
       "        text-align: right;\n",
       "    }\n",
       "</style>\n",
       "<table border=\"1\" class=\"dataframe\">\n",
       "  <thead>\n",
       "    <tr style=\"text-align: right;\">\n",
       "      <th></th>\n",
       "      <th>Année</th>\n",
       "      <th>Valeur_population</th>\n",
       "      <th>Valeur_sous_nutrition</th>\n",
       "      <th>Pourcentage_sous_nutrition</th>\n",
       "    </tr>\n",
       "    <tr>\n",
       "      <th>Zone</th>\n",
       "      <th></th>\n",
       "      <th></th>\n",
       "      <th></th>\n",
       "      <th></th>\n",
       "    </tr>\n",
       "  </thead>\n",
       "  <tbody>\n",
       "    <tr>\n",
       "      <td>Haïti</td>\n",
       "      <td>2017</td>\n",
       "      <td>10982.366</td>\n",
       "      <td>5300.0</td>\n",
       "      <td>48.26</td>\n",
       "    </tr>\n",
       "    <tr>\n",
       "      <td>République populaire démocratique de Corée</td>\n",
       "      <td>2017</td>\n",
       "      <td>25429.825</td>\n",
       "      <td>12000.0</td>\n",
       "      <td>47.19</td>\n",
       "    </tr>\n",
       "    <tr>\n",
       "      <td>Madagascar</td>\n",
       "      <td>2017</td>\n",
       "      <td>25570.512</td>\n",
       "      <td>10500.0</td>\n",
       "      <td>41.06</td>\n",
       "    </tr>\n",
       "    <tr>\n",
       "      <td>Libéria</td>\n",
       "      <td>2017</td>\n",
       "      <td>4702.226</td>\n",
       "      <td>1800.0</td>\n",
       "      <td>38.28</td>\n",
       "    </tr>\n",
       "    <tr>\n",
       "      <td>Lesotho</td>\n",
       "      <td>2017</td>\n",
       "      <td>2091.534</td>\n",
       "      <td>800.0</td>\n",
       "      <td>38.25</td>\n",
       "    </tr>\n",
       "  </tbody>\n",
       "</table>\n",
       "</div>"
      ],
      "text/plain": [
       "                                            Année  Valeur_population  \\\n",
       "Zone                                                                   \n",
       "Haïti                                        2017          10982.366   \n",
       "République populaire démocratique de Corée   2017          25429.825   \n",
       "Madagascar                                   2017          25570.512   \n",
       "Libéria                                      2017           4702.226   \n",
       "Lesotho                                      2017           2091.534   \n",
       "\n",
       "                                            Valeur_sous_nutrition  \\\n",
       "Zone                                                                \n",
       "Haïti                                                      5300.0   \n",
       "République populaire démocratique de Corée                12000.0   \n",
       "Madagascar                                                10500.0   \n",
       "Libéria                                                    1800.0   \n",
       "Lesotho                                                     800.0   \n",
       "\n",
       "                                            Pourcentage_sous_nutrition  \n",
       "Zone                                                                    \n",
       "Haïti                                                            48.26  \n",
       "République populaire démocratique de Corée                       47.19  \n",
       "Madagascar                                                       41.06  \n",
       "Libéria                                                          38.28  \n",
       "Lesotho                                                          38.25  "
      ]
     },
     "execution_count": 86,
     "metadata": {},
     "output_type": "execute_result"
    }
   ],
   "source": [
    "# Extract the 5 countries where possesses the highest undernourrised in 2017\n",
    "df2017.sort_values(by = \"Pourcentage_sous_nutrition\", ascending = False).head()"
   ]
  },
  {
   "cell_type": "markdown",
   "metadata": {
    "heading_collapsed": true
   },
   "source": [
    "### 6.2. Visualization the data of these 5 countries"
   ]
  },
  {
   "cell_type": "code",
   "execution_count": 87,
   "metadata": {
    "hidden": true
   },
   "outputs": [
    {
     "data": {
      "image/png": "[encoded data removed]",
      "text/plain": [
       "<Figure size 1080x360 with 1 Axes>"
      ]
     },
     "metadata": {
      "needs_background": "light"
     },
     "output_type": "display_data"
    }
   ],
   "source": [
    "# Visualization of these countries having the highest % of undernourrished people in order\n",
    "top_5_nutri = df2017.sort_values(by = \"Pourcentage_sous_nutrition\", ascending = False)[:5]\n",
    "plt.figure(figsize = (15, 5))\n",
    "sns.barplot(data=top_5_nutri, x=\"Pourcentage_sous_nutrition\", y=top_5_nutri.index)\n",
    "plt.tight_layout()\n",
    "plt.title(\"Top 5 des pays qui ont le plus gros pourcentage de sous-nutrition\")\n",
    "plt.show()"
   ]
  },
  {
   "cell_type": "markdown",
   "metadata": {
    "hidden": true
   },
   "source": [
    "**The top 5 countries having the highest percent of undernourrished people are Haiti, République populaire démocratique de Corée, Madagascar, Libéria, and Lesotho.**"
   ]
  },
  {
   "cell_type": "markdown",
   "metadata": {
    "heading_collapsed": true
   },
   "source": [
    "### 6.3. Les pays qui ont le plus bénéficié d’aide depuis 2013"
   ]
  },
  {
   "cell_type": "code",
   "execution_count": 88,
   "metadata": {
    "hidden": true
   },
   "outputs": [
    {
     "data": {
      "text/html": [
       "<div>\n",
       "<style scoped>\n",
       "    .dataframe tbody tr th:only-of-type {\n",
       "        vertical-align: middle;\n",
       "    }\n",
       "\n",
       "    .dataframe tbody tr th {\n",
       "        vertical-align: top;\n",
       "    }\n",
       "\n",
       "    .dataframe thead th {\n",
       "        text-align: right;\n",
       "    }\n",
       "</style>\n",
       "<table border=\"1\" class=\"dataframe\">\n",
       "  <thead>\n",
       "    <tr style=\"text-align: right;\">\n",
       "      <th></th>\n",
       "      <th>Année</th>\n",
       "      <th>Produit</th>\n",
       "      <th>Valeur</th>\n",
       "    </tr>\n",
       "    <tr>\n",
       "      <th>Pays bénéficiaire</th>\n",
       "      <th></th>\n",
       "      <th></th>\n",
       "      <th></th>\n",
       "    </tr>\n",
       "  </thead>\n",
       "  <tbody>\n",
       "    <tr>\n",
       "      <td>Afghanistan</td>\n",
       "      <td>2013</td>\n",
       "      <td>Autres non-céréales</td>\n",
       "      <td>682</td>\n",
       "    </tr>\n",
       "    <tr>\n",
       "      <td>Afghanistan</td>\n",
       "      <td>2014</td>\n",
       "      <td>Autres non-céréales</td>\n",
       "      <td>335</td>\n",
       "    </tr>\n",
       "    <tr>\n",
       "      <td>Afghanistan</td>\n",
       "      <td>2013</td>\n",
       "      <td>Blé et Farin</td>\n",
       "      <td>39224</td>\n",
       "    </tr>\n",
       "    <tr>\n",
       "      <td>Afghanistan</td>\n",
       "      <td>2014</td>\n",
       "      <td>Blé et Farin</td>\n",
       "      <td>15160</td>\n",
       "    </tr>\n",
       "    <tr>\n",
       "      <td>Afghanistan</td>\n",
       "      <td>2013</td>\n",
       "      <td>Céréales</td>\n",
       "      <td>40504</td>\n",
       "    </tr>\n",
       "  </tbody>\n",
       "</table>\n",
       "</div>"
      ],
      "text/plain": [
       "                   Année              Produit  Valeur\n",
       "Pays bénéficiaire                                    \n",
       "Afghanistan         2013  Autres non-céréales     682\n",
       "Afghanistan         2014  Autres non-céréales     335\n",
       "Afghanistan         2013         Blé et Farin   39224\n",
       "Afghanistan         2014         Blé et Farin   15160\n",
       "Afghanistan         2013             Céréales   40504"
      ]
     },
     "execution_count": 88,
     "metadata": {},
     "output_type": "execute_result"
    }
   ],
   "source": [
    "# Insight the data aide alimentaire\n",
    "aideali.head()"
   ]
  },
  {
   "cell_type": "code",
   "execution_count": 89,
   "metadata": {
    "hidden": true
   },
   "outputs": [
    {
     "data": {
      "text/html": [
       "<div>\n",
       "<style scoped>\n",
       "    .dataframe tbody tr th:only-of-type {\n",
       "        vertical-align: middle;\n",
       "    }\n",
       "\n",
       "    .dataframe tbody tr th {\n",
       "        vertical-align: top;\n",
       "    }\n",
       "\n",
       "    .dataframe thead th {\n",
       "        text-align: right;\n",
       "    }\n",
       "</style>\n",
       "<table border=\"1\" class=\"dataframe\">\n",
       "  <thead>\n",
       "    <tr style=\"text-align: right;\">\n",
       "      <th></th>\n",
       "      <th>Valeur</th>\n",
       "    </tr>\n",
       "    <tr>\n",
       "      <th>Pays bénéficiaire</th>\n",
       "      <th></th>\n",
       "    </tr>\n",
       "  </thead>\n",
       "  <tbody>\n",
       "    <tr>\n",
       "      <td>Afghanistan</td>\n",
       "      <td>682</td>\n",
       "    </tr>\n",
       "    <tr>\n",
       "      <td>Afghanistan</td>\n",
       "      <td>335</td>\n",
       "    </tr>\n",
       "    <tr>\n",
       "      <td>Afghanistan</td>\n",
       "      <td>39224</td>\n",
       "    </tr>\n",
       "    <tr>\n",
       "      <td>Afghanistan</td>\n",
       "      <td>15160</td>\n",
       "    </tr>\n",
       "    <tr>\n",
       "      <td>Afghanistan</td>\n",
       "      <td>40504</td>\n",
       "    </tr>\n",
       "  </tbody>\n",
       "</table>\n",
       "</div>"
      ],
      "text/plain": [
       "                   Valeur\n",
       "Pays bénéficiaire        \n",
       "Afghanistan           682\n",
       "Afghanistan           335\n",
       "Afghanistan         39224\n",
       "Afghanistan         15160\n",
       "Afghanistan         40504"
      ]
     },
     "execution_count": 89,
     "metadata": {},
     "output_type": "execute_result"
    }
   ],
   "source": [
    "# Drop two variables that we do not use: Produit and Année\n",
    "aideali_recu = aideali.drop(columns = [\"Produit\", \"Année\"])\n",
    "aideali_recu.head()"
   ]
  },
  {
   "cell_type": "code",
   "execution_count": 90,
   "metadata": {
    "hidden": true
   },
   "outputs": [
    {
     "data": {
      "text/html": [
       "<div>\n",
       "<style scoped>\n",
       "    .dataframe tbody tr th:only-of-type {\n",
       "        vertical-align: middle;\n",
       "    }\n",
       "\n",
       "    .dataframe tbody tr th {\n",
       "        vertical-align: top;\n",
       "    }\n",
       "\n",
       "    .dataframe thead th {\n",
       "        text-align: right;\n",
       "    }\n",
       "</style>\n",
       "<table border=\"1\" class=\"dataframe\">\n",
       "  <thead>\n",
       "    <tr style=\"text-align: right;\">\n",
       "      <th></th>\n",
       "      <th>Valeur</th>\n",
       "    </tr>\n",
       "    <tr>\n",
       "      <th>Pays bénéficiaire</th>\n",
       "      <th></th>\n",
       "    </tr>\n",
       "  </thead>\n",
       "  <tbody>\n",
       "    <tr>\n",
       "      <td>Afghanistan</td>\n",
       "      <td>185452</td>\n",
       "    </tr>\n",
       "    <tr>\n",
       "      <td>Algérie</td>\n",
       "      <td>81114</td>\n",
       "    </tr>\n",
       "    <tr>\n",
       "      <td>Angola</td>\n",
       "      <td>5014</td>\n",
       "    </tr>\n",
       "    <tr>\n",
       "      <td>Bangladesh</td>\n",
       "      <td>348188</td>\n",
       "    </tr>\n",
       "    <tr>\n",
       "      <td>Bhoutan</td>\n",
       "      <td>2666</td>\n",
       "    </tr>\n",
       "  </tbody>\n",
       "</table>\n",
       "</div>"
      ],
      "text/plain": [
       "                   Valeur\n",
       "Pays bénéficiaire        \n",
       "Afghanistan        185452\n",
       "Algérie             81114\n",
       "Angola               5014\n",
       "Bangladesh         348188\n",
       "Bhoutan              2666"
      ]
     },
     "execution_count": 90,
     "metadata": {},
     "output_type": "execute_result"
    }
   ],
   "source": [
    "# Create the sum of the value with the correspond country\n",
    "aideali_recu = aideali_recu.groupby([\"Pays bénéficiaire\"]).agg({\"Valeur\": np.sum})\n",
    "aideali_recu.head()"
   ]
  },
  {
   "cell_type": "code",
   "execution_count": 91,
   "metadata": {
    "hidden": true
   },
   "outputs": [
    {
     "data": {
      "text/html": [
       "<div>\n",
       "<style scoped>\n",
       "    .dataframe tbody tr th:only-of-type {\n",
       "        vertical-align: middle;\n",
       "    }\n",
       "\n",
       "    .dataframe tbody tr th {\n",
       "        vertical-align: top;\n",
       "    }\n",
       "\n",
       "    .dataframe thead th {\n",
       "        text-align: right;\n",
       "    }\n",
       "</style>\n",
       "<table border=\"1\" class=\"dataframe\">\n",
       "  <thead>\n",
       "    <tr style=\"text-align: right;\">\n",
       "      <th></th>\n",
       "      <th>Valeur</th>\n",
       "    </tr>\n",
       "    <tr>\n",
       "      <th>Pays bénéficiaire</th>\n",
       "      <th></th>\n",
       "    </tr>\n",
       "  </thead>\n",
       "  <tbody>\n",
       "    <tr>\n",
       "      <td>République arabe syrienne</td>\n",
       "      <td>1858943</td>\n",
       "    </tr>\n",
       "    <tr>\n",
       "      <td>Éthiopie</td>\n",
       "      <td>1381294</td>\n",
       "    </tr>\n",
       "    <tr>\n",
       "      <td>Yémen</td>\n",
       "      <td>1206484</td>\n",
       "    </tr>\n",
       "    <tr>\n",
       "      <td>Soudan du Sud</td>\n",
       "      <td>695248</td>\n",
       "    </tr>\n",
       "    <tr>\n",
       "      <td>Soudan</td>\n",
       "      <td>669784</td>\n",
       "    </tr>\n",
       "  </tbody>\n",
       "</table>\n",
       "</div>"
      ],
      "text/plain": [
       "                            Valeur\n",
       "Pays bénéficiaire                 \n",
       "République arabe syrienne  1858943\n",
       "Éthiopie                   1381294\n",
       "Yémen                      1206484\n",
       "Soudan du Sud               695248\n",
       "Soudan                      669784"
      ]
     },
     "execution_count": 91,
     "metadata": {},
     "output_type": "execute_result"
    }
   ],
   "source": [
    "# the 5 countries that have benefited the most from aid since 2013\n",
    "aideali_recu.sort_values(by = \"Valeur\", ascending = False).head()"
   ]
  },
  {
   "cell_type": "markdown",
   "metadata": {
    "heading_collapsed": true
   },
   "source": [
    "### 6.4. Visualization of these top 5 countries "
   ]
  },
  {
   "cell_type": "code",
   "execution_count": 92,
   "metadata": {
    "hidden": true
   },
   "outputs": [
    {
     "data": {
      "image/png": "[encoded data removed]",
      "text/plain": [
       "<Figure size 720x360 with 1 Axes>"
      ]
     },
     "metadata": {
      "needs_background": "light"
     },
     "output_type": "display_data"
    }
   ],
   "source": [
    "# Top 5 countries that have received the most food aid since 2013\n",
    "top_5_aide = aideali_recu.sort_values(by = \"Valeur\", ascending = False)[:5]\n",
    "plt.figure(figsize = (10, 5))\n",
    "sns.barplot(data=top_5_aide, x=\"Valeur\", y=top_5_aide.index)\n",
    "plt.tight_layout()\n",
    "plt.title(\"Top 5 des pays qui ont reçu le plus d'aide alimentaire, valeur en million de tonnes\")\n",
    "plt.show ()"
   ]
  },
  {
   "cell_type": "markdown",
   "metadata": {
    "hidden": true
   },
   "source": [
    "**The top 5 countries that have received the most food aid since 2013 are République arabe syrienne, Éthiopie, Yémen, Soudan du Sud, and Soudan.**"
   ]
  },
  {
   "cell_type": "markdown",
   "metadata": {
    "heading_collapsed": true
   },
   "source": [
    "### 6.5. Les pays ayant le plus de disponibilité/habitant"
   ]
  },
  {
   "cell_type": "code",
   "execution_count": 93,
   "metadata": {
    "hidden": true
   },
   "outputs": [],
   "source": [
    "# Create the new dataframe \"top_dispo\" and regroupe by \"Zone\" the sum of each category \n",
    "top_dispo = dispoali.groupby([\"Zone\"]).agg({\n",
    "\"Aliments pour animaux\": np.sum,\"Autres Utilisations\": np.sum,\"Disponibilité alimentaire (Kcal/personne/jour)\": np.sum,\n",
    "\"Disponibilité alimentaire en quantité (kg/personne/an)\": np.sum,\"Disponibilité de matière grasse en quantité (g/personne/jour)\": np.sum,\n",
    "\"Disponibilité de protéines en quantité (g/personne/jour)\": np.sum,\"Disponibilité intérieure\": np.sum,\n",
    "\"Exportations - Quantité\": np.sum,\"Importations - Quantité\": np.sum,\"Nourriture\": np.sum,\"Pertes\": np.sum,\"Production\": np.sum,\"Semences\": np.sum,\n",
    "\"Traitement\": np.sum,\"Variation de stock\": np.sum})"
   ]
  },
  {
   "cell_type": "code",
   "execution_count": 94,
   "metadata": {
    "hidden": true
   },
   "outputs": [],
   "source": [
    "# Add the index in this new dataframe\n",
    "top_dispo = top_dispo.reset_index()"
   ]
  },
  {
   "cell_type": "code",
   "execution_count": 95,
   "metadata": {
    "hidden": true
   },
   "outputs": [
    {
     "data": {
      "text/html": [
       "<div>\n",
       "<style scoped>\n",
       "    .dataframe tbody tr th:only-of-type {\n",
       "        vertical-align: middle;\n",
       "    }\n",
       "\n",
       "    .dataframe tbody tr th {\n",
       "        vertical-align: top;\n",
       "    }\n",
       "\n",
       "    .dataframe thead th {\n",
       "        text-align: right;\n",
       "    }\n",
       "</style>\n",
       "<table border=\"1\" class=\"dataframe\">\n",
       "  <thead>\n",
       "    <tr style=\"text-align: right;\">\n",
       "      <th></th>\n",
       "      <th>Zone</th>\n",
       "      <th>Aliments pour animaux</th>\n",
       "      <th>Autres Utilisations</th>\n",
       "      <th>Disponibilité alimentaire (Kcal/personne/jour)</th>\n",
       "      <th>Disponibilité alimentaire en quantité (kg/personne/an)</th>\n",
       "      <th>Disponibilité de matière grasse en quantité (g/personne/jour)</th>\n",
       "      <th>Disponibilité de protéines en quantité (g/personne/jour)</th>\n",
       "      <th>Disponibilité intérieure</th>\n",
       "      <th>Exportations - Quantité</th>\n",
       "      <th>Importations - Quantité</th>\n",
       "      <th>Nourriture</th>\n",
       "      <th>Pertes</th>\n",
       "      <th>Production</th>\n",
       "      <th>Semences</th>\n",
       "      <th>Traitement</th>\n",
       "      <th>Variation de stock</th>\n",
       "    </tr>\n",
       "  </thead>\n",
       "  <tbody>\n",
       "    <tr>\n",
       "      <td>0</td>\n",
       "      <td>Afghanistan</td>\n",
       "      <td>768.0</td>\n",
       "      <td>415.0</td>\n",
       "      <td>2087.0</td>\n",
       "      <td>351.41</td>\n",
       "      <td>33.50</td>\n",
       "      <td>58.26</td>\n",
       "      <td>13515.0</td>\n",
       "      <td>278.0</td>\n",
       "      <td>2988.0</td>\n",
       "      <td>10735.0</td>\n",
       "      <td>1135.0</td>\n",
       "      <td>11171.0</td>\n",
       "      <td>395.0</td>\n",
       "      <td>63.0</td>\n",
       "      <td>-368.0</td>\n",
       "    </tr>\n",
       "    <tr>\n",
       "      <td>1</td>\n",
       "      <td>Afrique du Sud</td>\n",
       "      <td>5309.0</td>\n",
       "      <td>876.0</td>\n",
       "      <td>3020.0</td>\n",
       "      <td>564.80</td>\n",
       "      <td>83.58</td>\n",
       "      <td>85.33</td>\n",
       "      <td>61256.0</td>\n",
       "      <td>11674.0</td>\n",
       "      <td>7517.0</td>\n",
       "      <td>29812.0</td>\n",
       "      <td>2193.0</td>\n",
       "      <td>63263.0</td>\n",
       "      <td>253.0</td>\n",
       "      <td>22819.0</td>\n",
       "      <td>2153.0</td>\n",
       "    </tr>\n",
       "    <tr>\n",
       "      <td>2</td>\n",
       "      <td>Albanie</td>\n",
       "      <td>660.0</td>\n",
       "      <td>174.0</td>\n",
       "      <td>3188.0</td>\n",
       "      <td>1095.54</td>\n",
       "      <td>106.48</td>\n",
       "      <td>111.37</td>\n",
       "      <td>4758.0</td>\n",
       "      <td>94.0</td>\n",
       "      <td>933.0</td>\n",
       "      <td>3476.0</td>\n",
       "      <td>276.0</td>\n",
       "      <td>3964.0</td>\n",
       "      <td>55.0</td>\n",
       "      <td>113.0</td>\n",
       "      <td>-45.0</td>\n",
       "    </tr>\n",
       "    <tr>\n",
       "      <td>3</td>\n",
       "      <td>Algérie</td>\n",
       "      <td>4352.0</td>\n",
       "      <td>1707.0</td>\n",
       "      <td>3293.0</td>\n",
       "      <td>809.13</td>\n",
       "      <td>76.48</td>\n",
       "      <td>91.92</td>\n",
       "      <td>42630.0</td>\n",
       "      <td>655.0</td>\n",
       "      <td>17403.0</td>\n",
       "      <td>31729.0</td>\n",
       "      <td>3753.0</td>\n",
       "      <td>26359.0</td>\n",
       "      <td>449.0</td>\n",
       "      <td>637.0</td>\n",
       "      <td>-479.0</td>\n",
       "    </tr>\n",
       "    <tr>\n",
       "      <td>4</td>\n",
       "      <td>Allemagne</td>\n",
       "      <td>30209.0</td>\n",
       "      <td>7711.0</td>\n",
       "      <td>3503.0</td>\n",
       "      <td>957.52</td>\n",
       "      <td>141.62</td>\n",
       "      <td>101.39</td>\n",
       "      <td>162275.0</td>\n",
       "      <td>57431.0</td>\n",
       "      <td>65353.0</td>\n",
       "      <td>79238.0</td>\n",
       "      <td>3781.0</td>\n",
       "      <td>154547.0</td>\n",
       "      <td>1551.0</td>\n",
       "      <td>39842.0</td>\n",
       "      <td>-192.0</td>\n",
       "    </tr>\n",
       "  </tbody>\n",
       "</table>\n",
       "</div>"
      ],
      "text/plain": [
       "             Zone  Aliments pour animaux  Autres Utilisations  \\\n",
       "0     Afghanistan                  768.0                415.0   \n",
       "1  Afrique du Sud                 5309.0                876.0   \n",
       "2         Albanie                  660.0                174.0   \n",
       "3         Algérie                 4352.0               1707.0   \n",
       "4       Allemagne                30209.0               7711.0   \n",
       "\n",
       "   Disponibilité alimentaire (Kcal/personne/jour)  \\\n",
       "0                                          2087.0   \n",
       "1                                          3020.0   \n",
       "2                                          3188.0   \n",
       "3                                          3293.0   \n",
       "4                                          3503.0   \n",
       "\n",
       "   Disponibilité alimentaire en quantité (kg/personne/an)  \\\n",
       "0                                             351.41        \n",
       "1                                             564.80        \n",
       "2                                            1095.54        \n",
       "3                                             809.13        \n",
       "4                                             957.52        \n",
       "\n",
       "   Disponibilité de matière grasse en quantité (g/personne/jour)  \\\n",
       "0                                              33.50               \n",
       "1                                              83.58               \n",
       "2                                             106.48               \n",
       "3                                              76.48               \n",
       "4                                             141.62               \n",
       "\n",
       "   Disponibilité de protéines en quantité (g/personne/jour)  \\\n",
       "0                                              58.26          \n",
       "1                                              85.33          \n",
       "2                                             111.37          \n",
       "3                                              91.92          \n",
       "4                                             101.39          \n",
       "\n",
       "   Disponibilité intérieure  Exportations - Quantité  Importations - Quantité  \\\n",
       "0                   13515.0                    278.0                   2988.0   \n",
       "1                   61256.0                  11674.0                   7517.0   \n",
       "2                    4758.0                     94.0                    933.0   \n",
       "3                   42630.0                    655.0                  17403.0   \n",
       "4                  162275.0                  57431.0                  65353.0   \n",
       "\n",
       "   Nourriture  Pertes  Production  Semences  Traitement  Variation de stock  \n",
       "0     10735.0  1135.0     11171.0     395.0        63.0              -368.0  \n",
       "1     29812.0  2193.0     63263.0     253.0     22819.0              2153.0  \n",
       "2      3476.0   276.0      3964.0      55.0       113.0               -45.0  \n",
       "3     31729.0  3753.0     26359.0     449.0       637.0              -479.0  \n",
       "4     79238.0  3781.0    154547.0    1551.0     39842.0              -192.0  "
      ]
     },
     "execution_count": 95,
     "metadata": {},
     "output_type": "execute_result"
    }
   ],
   "source": [
    "top_dispo.head()"
   ]
  },
  {
   "cell_type": "markdown",
   "metadata": {
    "heading_collapsed": true
   },
   "source": [
    "### 6.5. Visualization the top 5 countries with the most food availability / inhabitant"
   ]
  },
  {
   "cell_type": "code",
   "execution_count": 96,
   "metadata": {
    "hidden": true
   },
   "outputs": [
    {
     "data": {
      "image/png": "[encoded data removed]",
      "text/plain": [
       "<Figure size 720x360 with 1 Axes>"
      ]
     },
     "metadata": {
      "needs_background": "light"
     },
     "output_type": "display_data"
    }
   ],
   "source": [
    "# The top 5 countries with the most food availability / inhabitant\n",
    "top_5_dispo = top_dispo.sort_values(by = \"Disponibilité alimentaire (Kcal/personne/jour)\", ascending = False)[:5]\n",
    "plt.figure(figsize = (10, 5))\n",
    "sns.barplot(data=top_5_dispo, x=\"Disponibilité alimentaire (Kcal/personne/jour)\", y=top_5_dispo.Zone)\n",
    "plt.tight_layout()\n",
    "plt.title(\"Top 5 des pays qui ont le plus de disponibilité/habitant\")\n",
    "plt.show()"
   ]
  },
  {
   "cell_type": "markdown",
   "metadata": {
    "hidden": true
   },
   "source": [
    "**The top 5 countries with the most food availability/ inhabitant are Autriche, Belgique, Turquie, États-Unis d'Amérique, and Israel.**"
   ]
  },
  {
   "cell_type": "markdown",
   "metadata": {},
   "source": [
    "### 6.6. Les pays ayant le moins de disponibilité/habitant"
   ]
  },
  {
   "cell_type": "markdown",
   "metadata": {
    "heading_collapsed": true
   },
   "source": [
    "### 6.7. Visualization the top 5 countries with the least food availability / inhabitant"
   ]
  },
  {
   "cell_type": "code",
   "execution_count": 97,
   "metadata": {
    "hidden": true
   },
   "outputs": [
    {
     "data": {
      "image/png": "[encoded data removed]",
      "text/plain": [
       "<Figure size 720x360 with 1 Axes>"
      ]
     },
     "metadata": {
      "needs_background": "light"
     },
     "output_type": "display_data"
    }
   ],
   "source": [
    "# The top 5 countries with the least food availability / inhabitant\n",
    "bottom_5_dispo = top_dispo.sort_values(by = \"Disponibilité alimentaire (Kcal/personne/jour)\", ascending = True)[:5]\n",
    "plt.figure(figsize = (10, 5))\n",
    "sns.barplot(data=bottom_5_dispo, x=\"Disponibilité alimentaire (Kcal/personne/jour)\", y=bottom_5_dispo.Zone)\n",
    "plt.tight_layout()\n",
    "plt.title(\"Top 5 des pays qui ont le moins de disponibilité/habitant\")\n",
    "plt.show()"
   ]
  },
  {
   "cell_type": "markdown",
   "metadata": {
    "hidden": true
   },
   "source": [
    "**The top 5 countries with the least food availability/ inhabitant are République centrafricaine, Zambie, Madagascar, Afganistan, and Haiti.**"
   ]
  },
  {
   "cell_type": "markdown",
   "metadata": {},
   "source": [
    "## 7. Supporting information\n",
    "### 7.1. Whether the countries having the highest % of undernourrished people is the ones that have the least food availability / inhabitant?"
   ]
  },
  {
   "cell_type": "code",
   "execution_count": 98,
   "metadata": {},
   "outputs": [
    {
     "data": {
      "image/png": "[encoded data removed]",
      "text/plain": [
       "<Figure size 1080x720 with 2 Axes>"
      ]
     },
     "metadata": {
      "needs_background": "light"
     },
     "output_type": "display_data"
    }
   ],
   "source": [
    "# Visualization two data frames\n",
    "\n",
    "top_10_nutri = df2017.sort_values(by = \"Pourcentage_sous_nutrition\", ascending = False)[:10]\n",
    "bottom_10_dispo = top_dispo.sort_values(by = \"Disponibilité alimentaire (Kcal/personne/jour)\", ascending = True)[:10]\n",
    "\n",
    "\n",
    "fig = plt.figure(figsize=(15,10))\n",
    "\n",
    "plt.subplot(221)\n",
    "sns.barplot(data=top_10_nutri, x=\"Pourcentage_sous_nutrition\", y=top_10_nutri.index)\n",
    "plt.tight_layout()\n",
    "plt.title(\"Top 10 des pays qui ont le plus gros pourcentage de sous-nutrition\")\n",
    "\n",
    "\n",
    "plt.subplot(222)\n",
    "sns.barplot(data=bottom_10_dispo, x=\"Disponibilité alimentaire (Kcal/personne/jour)\", y=bottom_10_dispo.Zone)\n",
    "plt.tight_layout()\n",
    "plt.title(\"Top 10 des pays qui ont le moins de disponibilité/habitant\")\n",
    "\n",
    "plt.show()"
   ]
  },
  {
   "cell_type": "markdown",
   "metadata": {},
   "source": [
    "**Among 10 contries that have the highest undernourrished population, there are 6 countries showed the least food availability/ inhabitant.**"
   ]
  },
  {
   "cell_type": "markdown",
   "metadata": {
    "heading_collapsed": true
   },
   "source": [
    "### 7.2. Whether the countries having the highest % of undernourrished people is the ones that have benefited the most from aid since 2013?"
   ]
  },
  {
   "cell_type": "code",
   "execution_count": 99,
   "metadata": {
    "hidden": true
   },
   "outputs": [
    {
     "data": {
      "image/png": "[encoded data removed]",
      "text/plain": [
       "<Figure size 1080x720 with 2 Axes>"
      ]
     },
     "metadata": {
      "needs_background": "light"
     },
     "output_type": "display_data"
    }
   ],
   "source": [
    "# Visualization two data frames\n",
    "\n",
    "top_10_nutri = df2017.sort_values(by = \"Pourcentage_sous_nutrition\", ascending = False)[:10]\n",
    "top_10_aide = aideali_recu.sort_values(by = \"Valeur\", ascending = False)[:10]\n",
    "\n",
    "\n",
    "fig = plt.figure(figsize=(15,10))\n",
    "\n",
    "plt.subplot(221)\n",
    "sns.barplot(data=top_10_nutri, x=\"Pourcentage_sous_nutrition\", y=top_10_nutri.index)\n",
    "plt.tight_layout()\n",
    "plt.title(\"Top 10 des pays qui ont le plus gros pourcentage de sous-nutrition\")\n",
    "\n",
    "plt.subplot(222)\n",
    "sns.barplot(data=top_10_aide, x=\"Valeur\", y=top_10_aide.index)\n",
    "plt.tight_layout()\n",
    "plt.title(\"Top 10 des pays qui ont reçu le plus d'aide alimentaire\")\n",
    "\n",
    "plt.show()"
   ]
  },
  {
   "cell_type": "markdown",
   "metadata": {
    "hidden": true
   },
   "source": [
    "**We did not see any country that have undernourrished but received the beneficial food aid since 2013 in the top 10 countries investigated.**"
   ]
  },
  {
   "cell_type": "markdown",
   "metadata": {
    "heading_collapsed": true
   },
   "source": [
    "### 7.3. The most highest productive countries "
   ]
  },
  {
   "cell_type": "code",
   "execution_count": 100,
   "metadata": {
    "hidden": true
   },
   "outputs": [
    {
     "data": {
      "image/png": "[encoded data removed]",
      "text/plain": [
       "<Figure size 720x360 with 1 Axes>"
      ]
     },
     "metadata": {
      "needs_background": "light"
     },
     "output_type": "display_data"
    }
   ],
   "source": [
    "top_10_prod = top_dispo.sort_values(by = \"Production\", ascending = False)[:10]\n",
    "plt.figure(figsize = (10, 5))\n",
    "sns.barplot(data=top_10_prod, x=\"Production\", y=top_10_prod.Zone)\n",
    "plt.tight_layout()\n",
    "plt.title(\"Top 10 des pays qui ont le plus de production\")\n",
    "plt.show()"
   ]
  },
  {
   "cell_type": "markdown",
   "metadata": {
    "heading_collapsed": true
   },
   "source": [
    "### 7.4. The least productive countries"
   ]
  },
  {
   "cell_type": "code",
   "execution_count": 101,
   "metadata": {
    "hidden": true
   },
   "outputs": [
    {
     "data": {
      "image/png": "[encoded data removed]",
      "text/plain": [
       "<Figure size 720x360 with 1 Axes>"
      ]
     },
     "metadata": {
      "needs_background": "light"
     },
     "output_type": "display_data"
    }
   ],
   "source": [
    "bottom_10_prod = top_dispo.sort_values(by = \"Production\", ascending = True)[:10]\n",
    "plt.figure(figsize = (10, 5))\n",
    "sns.barplot(data=bottom_10_prod, x=\"Production\", y=bottom_10_prod.Zone)\n",
    "plt.tight_layout()\n",
    "plt.title(\"Top 10 des pays qui ont le moins de Production\")\n",
    "plt.show()"
   ]
  },
  {
   "cell_type": "markdown",
   "metadata": {
    "heading_collapsed": true
   },
   "source": [
    "### 7.5. The top 10 exporting countries"
   ]
  },
  {
   "cell_type": "code",
   "execution_count": 102,
   "metadata": {
    "hidden": true
   },
   "outputs": [
    {
     "data": {
      "image/png": "[encoded data removed]",
      "text/plain": [
       "<Figure size 720x360 with 1 Axes>"
      ]
     },
     "metadata": {
      "needs_background": "light"
     },
     "output_type": "display_data"
    }
   ],
   "source": [
    "top_10_expor = top_dispo.sort_values(by = \"Exportations - Quantité\", ascending = False)[:10]\n",
    "plt.figure(figsize = (10, 5))\n",
    "sns.barplot(data=top_10_expor, x=\"Exportations - Quantité\", y=top_10_expor.Zone)\n",
    "plt.tight_layout()\n",
    "plt.title(\"Top 10 des pays qui ont le plus d'exportation\")\n",
    "plt.show()"
   ]
  },
  {
   "cell_type": "markdown",
   "metadata": {
    "heading_collapsed": true
   },
   "source": [
    "### 7.6. The top 10 importing countries"
   ]
  },
  {
   "cell_type": "code",
   "execution_count": 103,
   "metadata": {
    "hidden": true
   },
   "outputs": [
    {
     "data": {
      "image/png": "[encoded data removed]",
      "text/plain": [
       "<Figure size 720x360 with 1 Axes>"
      ]
     },
     "metadata": {
      "needs_background": "light"
     },
     "output_type": "display_data"
    }
   ],
   "source": [
    "top_10_impor = top_dispo.sort_values(by = \"Importations - Quantité\", ascending = False)[:10]\n",
    "plt.figure(figsize = (10, 5))\n",
    "sns.barplot(data=top_10_impor, x=\"Importations - Quantité\", y=top_10_impor.Zone)\n",
    "plt.tight_layout()\n",
    "plt.title(\"Top 10 des pays qui ont le plus d'importation\")\n",
    "plt.show()"
   ]
  },
  {
   "cell_type": "code",
   "execution_count": 104,
   "metadata": {
    "hidden": true
   },
   "outputs": [
    {
     "data": {
      "image/png": "[encoded data removed]",
      "text/plain": [
       "<Figure size 1080x720 with 2 Axes>"
      ]
     },
     "metadata": {
      "needs_background": "light"
     },
     "output_type": "display_data"
    }
   ],
   "source": [
    "# Comparison\n",
    "fig = plt.figure(figsize=(15,10))\n",
    "\n",
    "plt.subplot(221)\n",
    "sns.barplot(data=top_10_prod, x=\"Production\", y=top_10_prod.Zone)\n",
    "plt.tight_layout()\n",
    "plt.title(\"Top 10 des pays qui ont le plus de production\")\n",
    "\n",
    "plt.subplot(222)\n",
    "sns.barplot(data=top_10_expor, x=\"Exportations - Quantité\", y=top_10_expor.Zone)\n",
    "plt.tight_layout()\n",
    "plt.title(\"Top 10 des pays qui ont le plus d'exportation\")\n",
    "\n",
    "plt.show()"
   ]
  },
  {
   "cell_type": "markdown",
   "metadata": {
    "hidden": true
   },
   "source": [
    "**Among the 10 highest productive countries, there are 6 countries also had the highest exportation.**"
   ]
  },
  {
   "cell_type": "markdown",
   "metadata": {},
   "source": [
    "## 8. Conclusion"
   ]
  },
  {
   "cell_type": "markdown",
   "metadata": {},
   "source": [
    "* **Equation on utilise dans le projet:** \n",
    " Disponibilité intérieure = Production + Importations + Variation - Exportations \n",
    " = Nourriture + Aliments animaux + Semences + Pertes + Traitement + Autres utilisations.\n",
    "\n",
    "* **Les ressources sont mal réparties à travers le monde. Les pays en zone de conflits (en guerres) ainsi que les pays qui subissent beaucoup de catastrophe naturelle sont plus impactés par la sous-nutrition.**\n",
    "\n",
    "* **La production modiale pourrait sans problème nourrit toute la population.**\n"
   ]
  },
  {
   "cell_type": "markdown",
   "metadata": {},
   "source": [
    "**-The end-**"
   ]
  }
 ],
 "metadata": {
  "kernelspec": {
   "display_name": "Python 3",
   "language": "python",
   "name": "python3"
  },
  "language_info": {
   "codemirror_mode": {
    "name": "ipython",
    "version": 3
   },
   "file_extension": ".py",
   "mimetype": "text/x-python",
   "name": "python",
   "nbconvert_exporter": "python",
   "pygments_lexer": "ipython3",
   "version": "3.7.4"
  },
  "toc": {
   "base_numbering": 1,
   "nav_menu": {},
   "number_sections": false,
   "sideBar": true,
   "skip_h1_title": false,
   "title_cell": "Table of Contents",
   "title_sidebar": "Contents",
   "toc_cell": false,
   "toc_position": {
    "height": "635px",
    "left": "781px",
    "top": "111.133px",
    "width": "165px"
   },
   "toc_section_display": true,
   "toc_window_display": true
  }
 },
 "nbformat": 4,
 "nbformat_minor": 2
}
